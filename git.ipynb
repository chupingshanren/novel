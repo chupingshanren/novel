{
 "cells": [
  {
   "cell_type": "markdown",
   "metadata": {},
   "source": [
    "输入：\n",
    "git config --global credential.helper store\n",
    "然后你会在你本地生成一个文本，上边记录你的账号和密码。当然这些你可以不用关心。\n",
    "然后你使用上述的命令配置好之后，再操作一次 git pull，然后它会提示你输入账号密码，这一次之后就不需要再次输入密码了。"
   ]
  },
  {
   "cell_type": "markdown",
   "metadata": {},
   "source": [
    "创建xxx.html,文件夹；replace xxx；改url\n",
    "https://curl.trillworks.com/# 改headers"
   ]
  },
  {
   "cell_type": "code",
   "execution_count": 1,
   "metadata": {
    "scrolled": true
   },
   "outputs": [
    {
     "name": "stdout",
     "output_type": "stream",
     "text": [
      "1\n"
     ]
    }
   ],
   "source": [
    "print(1)"
   ]
  },
  {
   "cell_type": "code",
   "execution_count": 1,
   "metadata": {
    "collapsed": true,
    "jupyter": {
     "outputs_hidden": true
    }
   },
   "outputs": [
    {
     "name": "stdout",
     "output_type": "stream",
     "text": [
      "start\n",
      "['第六章 神庭与巨款', '第七章 整合', '第八章 虎牙楼', '第九章 襟花争夺战', '第十章 烹国', '第十一章 步步惊心', '第十二章 投票', '第十三章 无人落泪的葬礼（一）', '第十四章 无人落泪的葬礼（二）', '第十五章 无人落泪的葬礼（三）']\n",
      "['第十六章 无人落泪的葬礼 （四）', '第十七章 无人落泪的葬礼（五）', '第十八章 无人落泪的葬礼（六）', '第十九章 无人落泪的葬礼（七）', '第二十章 邙山闲土', '第二十一章 句芒', '第二十二章 天空大炸弹', '第二十三章 狰与修罗', '第二十四章 独一无二的气泡', '第二十五章 真君五皂']\n",
      "['第三十六章 狰与李阎', '第三十七章 三席第一人', '第三十八章 搏命之争？', '第三十九章 十月议案', '第四十章 茱蒂', '第四十一章 阎浮果核', '第四十二章 结束', '第四十三章 雷池', '第四十四章 阎浮的真相', '第四十五章 变革年代']\n",
      "620\n",
      "695\n",
      "over\n"
     ]
    }
   ],
   "source": [
    "!python cong.py -s 580 -e 590 -n 3\n",
    "#694"
   ]
  },
  {
   "cell_type": "code",
   "execution_count": null,
   "metadata": {
    "collapsed": true,
    "jupyter": {
     "outputs_hidden": true
    }
   },
   "outputs": [],
   "source": [
    "!python dd.py -s 796 -e 826 -n 10 "
   ]
  },
  {
   "cell_type": "code",
   "execution_count": 3,
   "metadata": {
    "collapsed": true,
    "jupyter": {
     "outputs_hidden": true
    }
   },
   "outputs": [
    {
     "name": "stdout",
     "output_type": "stream",
     "text": [
      "start\n",
      "1023\n",
      "['第993章 脑花', '第994章 撞', '第995章 学术会议']\n",
      "over\n",
      "['第996章 专家意见', '第997章 爆炸', '第998章 程咬金']\n",
      "['第1002章 寻你的错处（求月票）', '第1003章 嚎叫', '第1004章 艰难']\n",
      "1032\n",
      "1319\n"
     ]
    }
   ],
   "source": [
    "!python da.py -s 1032 -e 1062 -n 3  \n",
    "#1319"
   ]
  },
  {
   "cell_type": "code",
   "execution_count": 2,
   "metadata": {
    "collapsed": true,
    "jupyter": {
     "outputs_hidden": true
    }
   },
   "outputs": [
    {
     "name": "stdout",
     "output_type": "stream",
     "text": [
      "[master dd40e38] 鏇存柊\n",
      " 31 files changed, 7932 insertions(+)\n",
      "start\n",
      "930\n",
      "['892、战车', '893、反击', '894、虽死，犹荣', '895、火种往事', '896、我给你们争取一点时间', '897、破晓', '898、任小粟的新组合技', '899、说好的只是拖延时间而已', '900、P5092的心事', '901、大兴西北！', '902、感谢币', '903、P5092', '904、情报共享', '905、真相不会因为谁而改变', '906、黑色屏幕上的名字', '907、顺路', '908、身份线索', '909、背锅之谜', '910、你把路走窄了啊', '911、张小满的呼唤', '912、P5092接管指挥权！', '913、强强联手', '914、三强联手', '915、五强联手', '916、打完就跑', '917、伏击', '918、人总会改变的', '919、糟糕的局势', '920、彼此防备', '921、回去']\n",
      "over\n",
      "1273\n"
     ]
    },
    {
     "name": "stderr",
     "output_type": "stream",
     "text": [
      "To https://github.com/chupingshanren/novel.git\n",
      "   c385cfd..dd40e38  master -> master\n"
     ]
    }
   ],
   "source": [
    "!python di.py -s 900 -e 930\n",
    "#1273"
   ]
  },
  {
   "cell_type": "code",
   "execution_count": 2,
   "metadata": {
    "collapsed": true,
    "jupyter": {
     "outputs_hidden": true
    }
   },
   "outputs": [
    {
     "name": "stdout",
     "output_type": "stream",
     "text": [
      "start\n",
      "['第六十二章 分配', '第六十三章 馈赠总是要归还', '第六十四章 顾问费', '第六十五章 罗塞尔的另一个提醒', '第六十六章 九月的一天', '第六十七章 各自的成长（祝大家中秋快乐）', '第六十八章 成长的各自（祝大家中秋快乐）', '第六十九章 战争的脚步', '第七十章 灵教团的消息（感谢CzLB同学打赏白银盟）', '第七十一章 玫歌庄园（周一求推荐票月票）', '第七十二章 意想不到（周一求月票推荐票）', '第七十三章 耐心', '第七十四章 魔女的手段', '第七十五章 十字架', '第七十六章 答案', '第七十七章 梅森.迪尔之死', '第七十八章 传统艺能', '第七十九章 随机性异变', '第八十章 两次禁止', '第八十一章 欺瞒', '第八十二章 自救', '第八十三章 1号遗迹（周一求推荐票月票）', '第八十四章 联合行动（周一求推荐票月票）', '第八十五章 可能性', '第八十六章 强力净化者', '第八十七章 要有光', '第八十八章 收获', '第八十九章 提前的日记', '第九十章 “预想”的发展', '第九十一章 格尔曼的问题']\n",
      "['第九十二章 名单', '第九十三章 希望（求双倍月票）', '第九十四章 宁静的海面（八月月票第一加更）', '第九十五章 王女（求月票）', '第九十六章 不同角度的计划（月底求月票周一求推荐票）', '第九十七章 各怀心思（求月票推荐票）', '第九十八章 置身激流（求保底月票）', '九月总结兼求保底月票（章节已更）', '沉迷阅兵，中午那章在晚上（求月票）', '第九十九章 梦境行者（求月票）', '第一百章 一个“考验”（求月票）', '第一百零一章 头脑风暴（求月票）', '第一百零二章 真假“间谍”（求月票）', '第一百零三章 “观众”的直觉（求月票）', '第一百零四章 擅用催眠', '第一百零五章 不同途径不同风格', '第一百零六章 三打一', '第一百零七章 会长（九月月票第一加更）', '第一百零八章 “量身定做”的仪式', '第一百零九章 思路（周一求月票推荐票）', '第一百一十章 真正的“魔鬼”（周一求月票推荐票）', '第一百一十一章 超凡的与普通的', '第一百一十二章 工具人', '第一百一十三章 “月亮”的权柄', '第一百一十四章 掩盖的秘密', '第一百一十五章 谁的梦', '第一百一十六章 在线“授课”', '第一百一十七章 主的左手', '第一百一十八章 拉近关系', '第一百一十九章 漫游星空者']\n",
      "['第一百五十章 协作（月底求月票）', '第一百五十一章 不同的困境（月底求月票）', '第一百五十二章 积累贡献', '第一百五十三章 1368（求保底月票）', '十月总结兼求保底月票（章节已更）', '第一百五十四章 一册（求保底月票）', '第一百五十五章 特别的报酬（求保底月票）', '第一百五十六章 驱虎吞狼（求保底月票）', '第一百五十七章 暗示（周一求推荐票月票）', '第一百五十八章 矛盾之处（周一求推荐票月票）', '第一百五十九章 关键日记', '第一百六十章 互动', '第一百六十一章 轻松', '第一百六十二章 混乱的家庭', '第一百六十三章 耐心', '第一百六十四章 通“灵”', '第一百六十五章 “扑克高手”', '第一百六十六章 旅行笔记', '第一百六十七章 强大的看守者', '第一百六十八章 残留的意志', '第一百六十九章 王庭内部（周一求推荐票月票）', '第一百七十章 熟悉的注视（周一求推荐票月票）', '第一百七十一章 最强组织', '第一百七十二章 克莱恩的畏惧', '第一百七十三章 默契的配合', '第一百七十四章 王庭追猎者', '第一百七十五章 弱点', '第一百七十六章 “愚者”的指示', '第一百七十七章 探索之后', '第一百七十八章 强化队友']\n",
      "['第三十四章 “记录”（周一求月票推荐票）', '第三十五章 重现', '第三十六章 机会与风险并存', '第三十七章 改变', '第三十八章 厚颜', '第三十九章 冬礼日', '第四十章 共鸣', '第四十一章 把握心理', '第四十二章 各司其职', '第四十三章 向东', '第四十四章 狮子搏兔（双倍求月票）', '第四十五章 “0”级（11月月票第一加更）', '第四十六章 “丑小鸭”（周一求推荐票月票）', '第四十七章 心灵风暴（周一求月票推荐票）', '第四十八章 “狂乱”（2019年最后一天求月票）', '第四十九章 不祥之盒', '2019年年终总结兼祝大家新一年万事如意（求月票）', '第五十章 随机性（新一年求月票）', '第五十一章 专业（新一年求月票）', '第五十二章 塔罗会（求月票）', '第五十三章 收获（求月票）', '第五十四章 不计生死（求月票）', '第五十五章 长达千年的陷阱（求月票）', '第五十六章 都是老狐狸（提前更新求月票）', '第五十七章 多里安的决断（求月票）', '第五十八章 久违的宁静（周一求月票推荐票）', '第五十九章 两个选择（周一求推荐票月票）', '第六十章 月城（双倍最后一天求月票）', '第六十一章 想象不出（双倍最后一天求月票）', '随便聊几句']\n",
      "['第三十三章 奶和蜜', '第三十四章 第四个人', '第三十五章 “新生”', '第三十六章 预言中的画面', '第三十七章 活化', '第三十八章 思路的重要性（周一求推荐票月票）', '第三十九章 那道黑影（周一求月票推荐票）', '第四十章 封印', '第四十一章 见面', '第四十二章 再见', '第四十三章 上门辅导', '第四十四章 使者', '第四十五章 新的任务', '第四十六章 全自动许愿机', '第四十七章 第三个愿望', '第四十八章 奇迹只能一时', '第四十九章 总结报告', '第五十章 陌生的城市（周一求月票推荐票）', '第五十一章 “傲慢”（周一求月票推荐票）', '第五十二章 七位委员', '第五十三章 “保命咒语”', '第五十四章 心灵邮件', '第五十五章 特殊的六条途径', '第五十六章 遇事不决先拖延', '第五十七章 发展大计', '第五十八章 处理', '第五十九章 半年多后', '第六十章 成功的“弥撒”', '第六十一章 三个方案', '第六十二章 台下功夫（周一求推荐票月票）']\n",
      "1360\n",
      "1438\n",
      "over\n"
     ]
    }
   ],
   "source": [
    "!python gui.py -s 1030 -e 1060 -n 5   \n",
    "#1439"
   ]
  },
  {
   "cell_type": "code",
   "execution_count": 2,
   "metadata": {
    "collapsed": true,
    "jupyter": {
     "outputs_hidden": true
    }
   },
   "outputs": [
    {
     "name": "stdout",
     "output_type": "stream",
     "text": [
      "[master 3e761fb] 鏇存柊\n",
      " 13 files changed, 611 insertions(+), 1 deletion(-)\n",
      " create mode 100644 \"\\345\\215\\263\\351\\271\\277/340.html\"\n",
      " create mode 100644 \"\\345\\215\\263\\351\\271\\277/340\\350\\257\\264.html\"\n",
      " create mode 100644 \"\\345\\215\\263\\351\\271\\277/341.html\"\n",
      " create mode 100644 \"\\345\\215\\263\\351\\271\\277/341\\350\\257\\264.html\"\n",
      " create mode 100644 \"\\345\\215\\263\\351\\271\\277/342.html\"\n",
      " create mode 100644 \"\\345\\215\\263\\351\\271\\277/342\\350\\257\\264.html\"\n",
      " create mode 100644 \"\\345\\215\\263\\351\\271\\277/343.html\"\n",
      " create mode 100644 \"\\345\\215\\263\\351\\271\\277/343\\350\\257\\264.html\"\n",
      " create mode 100644 \"\\345\\215\\263\\351\\271\\277/344.html\"\n",
      " create mode 100644 \"\\345\\215\\263\\351\\271\\277/344\\350\\257\\264.html\"\n",
      " create mode 100644 \"\\351\\200\\203\\347\\224\\237\\347\\211\\207\\345\\234\\272.html\"\n",
      "start\n",
      "342\n",
      "['第六十二章 万里月色同 群雄各异谋（中）', '第六十三章 万里月色同 群雄各异谋（下）']\n",
      "over\n",
      "['第一章 御敌策已备 张韶领兵至（上）', '第二章 御敌策已备 张韶领兵至（中）', '第三章 御敌策已备 张韶领兵至（下）']\n",
      "383\n"
     ]
    },
    {
     "name": "stderr",
     "output_type": "stream",
     "text": [
      "To https://github.com/chupingshanren/novel.git\n",
      "   71c6d6b..3e761fb  master -> master\n"
     ]
    }
   ],
   "source": [
    "!python ji.py -s 345 -e 375   \n",
    "#383"
   ]
  },
  {
   "cell_type": "code",
   "execution_count": null,
   "metadata": {
    "collapsed": true,
    "jupyter": {
     "outputs_hidden": true
    }
   },
   "outputs": [],
   "source": [
    "!python sh.py -s 325"
   ]
  },
  {
   "cell_type": "code",
   "execution_count": null,
   "metadata": {
    "collapsed": true,
    "jupyter": {
     "outputs_hidden": true
    }
   },
   "outputs": [],
   "source": [
    "!python tao.py -s 1787 "
   ]
  },
  {
   "cell_type": "code",
   "execution_count": null,
   "metadata": {
    "collapsed": true,
    "jupyter": {
     "outputs_hidden": true
    }
   },
   "outputs": [],
   "source": [
    "!python wan.py -s 789"
   ]
  },
  {
   "cell_type": "code",
   "execution_count": null,
   "metadata": {
    "collapsed": true,
    "jupyter": {
     "outputs_hidden": true
    }
   },
   "outputs": [],
   "source": [
    "!python zai.py -s 150 -e 160 -n 6"
   ]
  },
  {
   "cell_type": "code",
   "execution_count": null,
   "metadata": {
    "collapsed": true,
    "jupyter": {
     "outputs_hidden": true
    }
   },
   "outputs": [],
   "source": [
    "!python zt.py -s 123 -e 126 -n 4"
   ]
  },
  {
   "cell_type": "code",
   "execution_count": null,
   "metadata": {
    "collapsed": true,
    "jupyter": {
     "outputs_hidden": true
    }
   },
   "outputs": [],
   "source": [
    "!python zou.py -s 2071 -e 2101  #2390"
   ]
  },
  {
   "cell_type": "code",
   "execution_count": 7,
   "metadata": {
    "ExecuteTime": {
     "end_time": "2021-07-01T04:24:16.517497Z",
     "start_time": "2021-07-01T04:24:16.078671Z"
    }
   },
   "outputs": [],
   "source": [
    "!git add index.html"
   ]
  },
  {
   "cell_type": "code",
   "execution_count": 42,
   "metadata": {
    "ExecuteTime": {
     "end_time": "2021-07-03T10:32:20.564045Z",
     "start_time": "2021-07-03T10:32:17.146152Z"
    }
   },
   "outputs": [
    {
     "name": "stdout",
     "output_type": "stream",
     "text": [
      "\n",
      "正在 Ping github.com [13.229.188.59] 具有 32 字节的数据:\n",
      "来自 13.229.188.59 的回复: 字节=32 时间=84ms TTL=38\n",
      "来自 13.229.188.59 的回复: 字节=32 时间=84ms TTL=38\n",
      "来自 13.229.188.59 的回复: 字节=32 时间=84ms TTL=38\n",
      "来自 13.229.188.59 的回复: 字节=32 时间=84ms TTL=38\n",
      "\n",
      "13.229.188.59 的 Ping 统计信息:\n",
      "    数据包: 已发送 = 4，已接收 = 4，丢失 = 0 (0% 丢失)，\n",
      "往返行程的估计时间(以毫秒为单位):\n",
      "    最短 = 84ms，最长 = 84ms，平均 = 84ms\n"
     ]
    }
   ],
   "source": [
    "!ping github.com"
   ]
  },
  {
   "cell_type": "code",
   "execution_count": 1,
   "metadata": {
    "ExecuteTime": {
     "end_time": "2021-08-24T06:06:00.791370Z",
     "start_time": "2021-08-24T06:05:54.163080Z"
    }
   },
   "outputs": [],
   "source": [
    "!git add 深空彼岸.html\n",
    "!git add 深空彼岸"
   ]
  },
  {
   "cell_type": "code",
   "execution_count": 7,
   "metadata": {
    "ExecuteTime": {
     "end_time": "2021-09-08T16:14:08.307043Z",
     "start_time": "2021-09-08T16:12:48.472660Z"
    }
   },
   "outputs": [
    {
     "name": "stderr",
     "output_type": "stream",
     "text": [
      "fatal: unable to access 'https://github.com/chupingshanren/novel.git/': OpenSSL SSL_read: Connection was reset, errno 10054\n"
     ]
    }
   ],
   "source": [
    "!git push -f "
   ]
  },
  {
   "cell_type": "code",
   "execution_count": 2,
   "metadata": {
    "ExecuteTime": {
     "end_time": "2021-08-24T06:06:15.201218Z",
     "start_time": "2021-08-24T06:06:05.353473Z"
    },
    "scrolled": true
   },
   "outputs": [
    {
     "name": "stderr",
     "output_type": "stream",
     "text": [
      "Author identity unknown\n",
      "\n",
      "*** Please tell me who you are.\n",
      "\n",
      "Run\n",
      "\n",
      "  git config --global user.email \"you@example.com\"\n",
      "  git config --global user.name \"Your Name\"\n",
      "\n",
      "to set your account's default identity.\n",
      "Omit --global to set the identity only in this repository.\n",
      "\n",
      "fatal: unable to auto-detect email address (got 'admin@DESKTOP-MTIP2AP.(none)')\n"
     ]
    }
   ],
   "source": [
    "!git commit -m \"更新\""
   ]
  },
  {
   "cell_type": "markdown",
   "metadata": {},
   "source": [
    "i = 'https://book.qidian.com/info/1010868264#Catalog'"
   ]
  },
  {
   "cell_type": "markdown",
   "metadata": {},
   "source": [
    "import requests\n",
    "from lxml import etree\n",
    "html=requests.get(i).text\n",
    "html_xpath = etree.HTML(html)\n",
    "qlink = html_xpath.xpath('//a[contains(@href,\"chapter\")]/@href')[2:-1]\n",
    "qname = html_xpath.xpath('//a[contains(@href,\"chapter\")]/text()')[1:-1]\n",
    "print(qname)"
   ]
  },
  {
   "cell_type": "markdown",
   "metadata": {},
   "source": [
    "f = open('《诸天尽头》_凤嘲凰著_科幻_起点中文网.html', encoding='utf-8')\n",
    "html = f.read()"
   ]
  },
  {
   "cell_type": "markdown",
   "metadata": {},
   "source": [
    "import requests\n",
    "from lxml import etree\n",
    "import difflib  #添加了函数\n",
    "import random\n",
    "html_xpath = etree.HTML(html)\n",
    "qlink = html_xpath.xpath('//a[contains(@href,\"chapter\")]/@href')[2:-1]\n",
    "qname = html_xpath.xpath('//a[contains(@href,\"chapter\")]/text()')[1:-1]"
   ]
  },
  {
   "cell_type": "markdown",
   "metadata": {},
   "source": [
    "html2=requests.get('https://www.biquge5200.cc/121_121017/')\n",
    "html2.encoding = html2.apparent_encoding\n",
    "html2=html2.text\n",
    "html_xpath2 = etree.HTML(html2)\n",
    "link = html_xpath2.xpath('//*[@id=\"list\"]/dl/dd/a/@href')[9:]\n",
    "name = html_xpath2.xpath('//*[@id=\"list\"]/dl/dd/a/text()')[9:]"
   ]
  },
  {
   "cell_type": "markdown",
   "metadata": {},
   "source": [
    "a = 'http://www.b520.org/121_121017/166358964.html'"
   ]
  },
  {
   "cell_type": "markdown",
   "metadata": {},
   "source": [
    "html2=requests.get(a)\n",
    "    #html2.encoding = html2.apparent_encoding\n",
    "html2=html2.text\n",
    "html_xpath2 = etree.HTML(html2)\n",
    "cn = html_xpath2.xpath('//*[@class=\"bookname\"]/h1/text()')\n",
    "ct = html_xpath2.xpath('//*[@id=\"content\"]/p/text()')"
   ]
  },
  {
   "cell_type": "markdown",
   "metadata": {},
   "source": [
    "print(ct)"
   ]
  },
  {
   "cell_type": "markdown",
   "metadata": {},
   "source": [
    "print(name[9:])"
   ]
  },
  {
   "cell_type": "markdown",
   "metadata": {},
   "source": [
    "lists = []\n",
    "lt = []\n",
    "lts = []\n",
    "flag = 0\n",
    "ids = []\n",
    "for i,x in enumerate(name):\n",
    "        idx = difflib.get_close_matches_indexes(x,qname,1,0.4)\n",
    "        if idx:\n",
    "            print(x+str(i)+'\\t'+qname[idx[0]]+str(idx[0])+'\\t'+str(flag))\n",
    "            i = 'https://www.biqubu.com'+link[i]\n",
    "            lt.append(i)\n",
    "            lts.append(x)\n",
    "            ids.append(flag)\n",
    "            i = 'https:'+qlink[idx[0]]\n",
    "            lt.append(i)\n",
    "            lt.append(flag)\n",
    "            lists.append(lt)\n",
    "            lt = []\n",
    "            flag+=1"
   ]
  },
  {
   "cell_type": "markdown",
   "metadata": {},
   "source": [
    "python novel.py -s 321 -e 380\n",
    "-s 178 -e 180\n",
    "python ji.py -s 216 -e 230"
   ]
  },
  {
   "cell_type": "markdown",
   "metadata": {},
   "source": [
    "import random\n",
    "print(random.randint(0,9))"
   ]
  },
  {
   "cell_type": "markdown",
   "metadata": {},
   "source": [
    "print(20+random.randint(0,30))"
   ]
  },
  {
   "cell_type": "markdown",
   "metadata": {},
   "source": [
    "!git add index.html"
   ]
  },
  {
   "cell_type": "markdown",
   "metadata": {},
   "source": [
    "!git add git.ipynb"
   ]
  },
  {
   "cell_type": "markdown",
   "metadata": {},
   "source": [
    "!python shao.py -s 236 -e 250"
   ]
  },
  {
   "cell_type": "markdown",
   "metadata": {},
   "source": [
    "!python ji.py -s 303 -e 309"
   ]
  },
  {
   "cell_type": "markdown",
   "metadata": {},
   "source": [
    "!git add 覆汉.html"
   ]
  },
  {
   "cell_type": "markdown",
   "metadata": {},
   "source": [
    "!git add 覆汉"
   ]
  },
  {
   "cell_type": "markdown",
   "metadata": {},
   "source": [
    "!git add 诸天之从新做人.html\n",
    "!git add 诸天之从新做人"
   ]
  },
  {
   "cell_type": "code",
   "execution_count": 20,
   "metadata": {
    "ExecuteTime": {
     "end_time": "2021-07-01T16:00:00.407694Z",
     "start_time": "2021-07-01T15:59:59.426836Z"
    }
   },
   "outputs": [],
   "source": [
    "!git add 在港综成为传说.html\n",
    "!git add 在港综成为传说"
   ]
  },
  {
   "cell_type": "markdown",
   "metadata": {},
   "source": [
    "!git add 绍宋.html\n",
    "!git add 绍宋"
   ]
  },
  {
   "cell_type": "markdown",
   "metadata": {},
   "source": [
    "!git add 万界圆梦师.html\n",
    "!git add 万界圆梦师"
   ]
  },
  {
   "cell_type": "markdown",
   "metadata": {},
   "source": [
    "!git add 即鹿.html\n",
    "!git add 即鹿"
   ]
  },
  {
   "cell_type": "markdown",
   "metadata": {},
   "source": [
    "!git add 诸天尽头.html\n",
    "!git add 诸天尽头"
   ]
  },
  {
   "cell_type": "markdown",
   "metadata": {},
   "source": [
    "!git commit -m \"更新\""
   ]
  },
  {
   "cell_type": "code",
   "execution_count": 21,
   "metadata": {
    "ExecuteTime": {
     "end_time": "2021-07-01T16:00:16.719501Z",
     "start_time": "2021-07-01T16:00:16.368161Z"
    }
   },
   "outputs": [
    {
     "name": "stderr",
     "output_type": "stream",
     "text": [
      "fatal: pathspec '閫冪敓鐗囧満' did not match any files\n"
     ]
    }
   ],
   "source": [
    "!git rm -r 逃生片场"
   ]
  },
  {
   "cell_type": "markdown",
   "metadata": {},
   "source": [
    "!git rm -r 覆汉\n",
    "!git rm 覆汉.html\n",
    "!git commit -m \"delete\" \n",
    "!git push"
   ]
  },
  {
   "cell_type": "markdown",
   "metadata": {},
   "source": [
    "!git rm -r HUST_SHMS\n",
    "!git commit -m \"delete\"\n",
    "!git push"
   ]
  },
  {
   "cell_type": "markdown",
   "metadata": {},
   "source": [
    "https://chupingshanren.github.io/novel/\n",
    "https://github.com/chupingshanren/novel"
   ]
  },
  {
   "cell_type": "markdown",
   "metadata": {},
   "source": [
    "!git add HUST_SHMS\n",
    "!git commit -m \"更新\"\n",
    "!git push -f"
   ]
  },
  {
   "cell_type": "markdown",
   "metadata": {},
   "source": [
    "# 下载html"
   ]
  },
  {
   "cell_type": "markdown",
   "metadata": {},
   "source": [
    "chap  list问题\n",
    "url问题"
   ]
  },
  {
   "cell_type": "code",
   "execution_count": 24,
   "metadata": {
    "ExecuteTime": {
     "end_time": "2021-08-11T08:23:19.890358Z",
     "start_time": "2021-08-11T08:23:19.777660Z"
    }
   },
   "outputs": [],
   "source": [
    "import requests\n",
    "from lxml import etree\n",
    "import difflib  #添加了函数\n",
    "import urllib.request\n",
    "def setup(i,start,end,n):\n",
    "\n",
    "    f = open('《精灵掌门人》_轻泉流响著_轻小说_起点中文网.html', encoding='utf-8')\n",
    "    html = f.read() \n",
    "    html_xpath = etree.HTML(html)\n",
    "    qlink = html_xpath.xpath('//a[contains(@href,\"chapter\")]/@href')[2:-1]\n",
    "    qname = html_xpath.xpath('//a[contains(@href,\"chapter\")]/text()')[1:-1]\n",
    "    \n",
    "    html2=requests.get(i[1])\n",
    "    html2.encoding = html2.apparent_encoding\n",
    "    html2=html2.text\n",
    "    html_xpath2 = etree.HTML(html2)\n",
    "    link = html_xpath2.xpath('//*[@id=\"list\"]/dl/dd/a/@href')\n",
    "    name = html_xpath2.xpath('//*[@id=\"list\"]/dl/dd/a/text()')\n",
    "    # link = html_xpath.xpath('//*[@class=\"_chapter\"]/li/a/@href')\n",
    "    # name = html_xpath.xpath('//*[@class=\"_chapter\"]/li/a/text()')\n",
    "    lists = []\n",
    "    lt = []\n",
    "    lts = []\n",
    "    flag = 0\n",
    "    ids = []\n",
    "    for i,x in enumerate(name):\n",
    "        idx = difflib.get_close_matches_indexes(x,qname,1,0.4)\n",
    "        if idx:\n",
    "            i = 'https://www.biquyue.com'+link[i]\n",
    "            lt.append(i)\n",
    "            lts.append(x)\n",
    "            ids.append(flag)\n",
    "            i = qlink[idx[0]]\n",
    "            lt.append(i)\n",
    "            lt.append(flag)\n",
    "            lists.append(lt)\n",
    "            lt = []\n",
    "            flag+=1\n",
    "    \n",
    "    print('start')\n",
    "            \n",
    "    # lll = lists[start:end+1]\n",
    "    # # lists[370][1] = 'https:'+qlink[366]\n",
    "    # # lists[386][1] = 'https:'+qlink[382]\n",
    "    # # lll.append(lists[370])\n",
    "    \n",
    "    # lll = lists[start:end+1]\n",
    "    # lll.append(lists[304])\n",
    "    # task_start(lll)\n",
    "    \n",
    "    if end == 0:\n",
    "        end = len(lts)\n",
    "    try:\n",
    "        print(lts[start:end]) \n",
    "    except:\n",
    "        print('output error')\n",
    "    #task_start(lists[start:end])\n",
    "    \n",
    "    \n",
    "\n",
    "    \n",
    "    if n!=1:\n",
    "        itv = end-start\n",
    "        for j in range(1,n):\n",
    "            if start+itv>len(lts):\n",
    "                return 0\n",
    "            start = start+itv\n",
    "            if end+itv>len(lts):\n",
    "                end = len(lts)\n",
    "            else:\n",
    "                end = end+itv\n",
    "            try:\n",
    "                print(lts[start:end]) \n",
    "            except:\n",
    "                print('output error')\n",
    "            \n",
    "        \n",
    "    print(end)\n",
    "    print(len(lts))      \n",
    "    print('over')\n",
    "    return lists"
   ]
  },
  {
   "cell_type": "code",
   "execution_count": 25,
   "metadata": {
    "ExecuteTime": {
     "end_time": "2021-08-11T08:23:51.245507Z",
     "start_time": "2021-08-11T08:23:26.511650Z"
    }
   },
   "outputs": [
    {
     "name": "stdout",
     "output_type": "stream",
     "text": [
      "start\n",
      "['第113章 擂台赛！（求首订）', '第114章 方缘出场（求月票）', '第115章 铁尾三连（求月票）', '第116章 伊布，一挑三！（求月票）', '第117章 方缘大魔王（求月票）', '第118章 资源到手（求月票/盟主“赤泪无痕”加更）', '第119章 锻炼精神力（求月票）', '第120章 新一期《精灵之家》（求月票）', '第121章 小磁怪会飞了（求月票）', '第122章 制作成功？（求月票）', '第123章 三好学生方缘（求月票）', '第124章 寒假到来（求月票）', '第125章 第一站：帝都', '第126章 小磁怪首战', '第127章 参观人大', '第128章 充电室！', '第129章 名校的底蕴（求月票/盟主“幽明之羽”加更）', '第130章 伊布被秀了（求月票/盟主“听水落叶?”加更）', '第131章 雨云训练馆', '第132章 第二站：魔都', '第133章 再遇林森', '第134章 进入鬼屋', '第135章 强强联手', '第136章 奇葩的挑战者', '第137章 螺旋影子球', '第138章 影子球的性质', '第139章 不想当精灵博士的训练家不是好训练家', '第140章 水洼中的大口黑鲈？', '第141章 丑丑鱼', '第142章 被通缉的遗传学博士']\n",
      "143\n",
      "1220\n",
      "over\n"
     ]
    }
   ],
   "source": [
    "lists = setup(['https://book.qidian.com/info/1016314237#Catalog','https://www.biquyue.com/book_21058/'],113,143,1)"
   ]
  },
  {
   "cell_type": "code",
   "execution_count": 30,
   "metadata": {
    "ExecuteTime": {
     "end_time": "2021-08-11T08:33:10.699661Z",
     "start_time": "2021-08-11T08:33:09.688363Z"
    }
   },
   "outputs": [
    {
     "ename": "KeyError",
     "evalue": "'data'",
     "output_type": "error",
     "traceback": [
      "\u001b[1;31m---------------------------------------------------------------------------\u001b[0m",
      "\u001b[1;31mKeyError\u001b[0m                                  Traceback (most recent call last)",
      "\u001b[1;32m<ipython-input-30-49c929f28240>\u001b[0m in \u001b[0;36m<module>\u001b[1;34m()\u001b[0m\n\u001b[0;32m     16\u001b[0m     \u001b[1;31m# segid = []\u001b[0m\u001b[1;33m\u001b[0m\u001b[1;33m\u001b[0m\u001b[0m\n\u001b[0;32m     17\u001b[0m     \u001b[1;31m# segids = []\u001b[0m\u001b[1;33m\u001b[0m\u001b[1;33m\u001b[0m\u001b[0m\n\u001b[1;32m---> 18\u001b[1;33m \u001b[1;32mfor\u001b[0m \u001b[0mi\u001b[0m \u001b[1;32min\u001b[0m \u001b[0mrange\u001b[0m\u001b[1;33m(\u001b[0m\u001b[0mchap\u001b[0m\u001b[1;33m[\u001b[0m\u001b[1;34m\"data\"\u001b[0m\u001b[1;33m]\u001b[0m\u001b[1;33m[\u001b[0m\u001b[1;34m\"total\"\u001b[0m\u001b[1;33m]\u001b[0m\u001b[1;33m)\u001b[0m\u001b[1;33m:\u001b[0m\u001b[1;33m\u001b[0m\u001b[0m\n\u001b[0m\u001b[0;32m     19\u001b[0m     \u001b[0mprint\u001b[0m\u001b[1;33m(\u001b[0m\u001b[0mi\u001b[0m\u001b[1;33m)\u001b[0m\u001b[1;33m\u001b[0m\u001b[0m\n",
      "\u001b[1;31mKeyError\u001b[0m: 'data'"
     ]
    }
   ],
   "source": [
    "i = lists[143]\n",
    "bookId=i[1].split('/')[-2]\n",
    "chapterId=i[1].split('/')[-1]\n",
    "tid = i[2]\n",
    "    \n",
    " \n",
    "chap = requests.get('https://vipreader.qidian.com/ajax/chapterReview/reviewSummary?_csrfToken=QvdYQnyet9Faxk54wUtGeu5rNa7Z0IP9vuQD0FO2&bookId='+bookId+'&chapterId='+chapterId).json()\n",
    "    \n",
    "html2=requests.get(i[0])\n",
    "    #html2.encoding = html2.apparent_encoding\n",
    "html2=html2.text\n",
    "html_xpath2 = etree.HTML(html2)\n",
    "cn = html_xpath2.xpath('//*[@class=\"bookname\"]/h1/text()')\n",
    "ct = html_xpath2.xpath('//*[@id=\"content\"]/text()')\n",
    "segid = {}\n",
    "    # segid = []\n",
    "    # segids = []\n",
    "for i in range(chap[\"data\"][\"total\"]):\n",
    "    print(i)"
   ]
  },
  {
   "cell_type": "code",
   "execution_count": 44,
   "metadata": {
    "ExecuteTime": {
     "end_time": "2021-08-11T08:48:56.113451Z",
     "start_time": "2021-08-11T08:48:56.108457Z"
    }
   },
   "outputs": [
    {
     "name": "stdout",
     "output_type": "stream",
     "text": [
      "['https:', 'vipreader.qidian.com', 'chapter', '1015792398', '492323793']\n"
     ]
    }
   ],
   "source": [
    "test = list(filter(None,i[1].split('/')))\n",
    "print(test)"
   ]
  },
  {
   "cell_type": "code",
   "execution_count": 42,
   "metadata": {
    "ExecuteTime": {
     "end_time": "2021-08-11T08:46:16.388944Z",
     "start_time": "2021-08-11T08:46:16.379969Z"
    }
   },
   "outputs": [
    {
     "name": "stdout",
     "output_type": "stream",
     "text": [
      "['https://www.biquyue.com/book_21058/6079078.html', 'https://vipreader.qidian.com/chapter/1015792398/492323793/', 143]\n",
      "https://vipreader.qidian.com/ajax/chapterReview/reviewSummary?_csrfToken=jYiwmLcaMChAB3NSM1JQFI0oY5EvwJNW36O4TU4w&bookId=492323793&chapterId=\n",
      "['https:', '', 'vipreader.qidian.com', 'chapter', '1015792398', '492323793', '']\n"
     ]
    }
   ],
   "source": [
    "i = lists[143]\n",
    "url = 'https://vipreader.qidian.com/ajax/chapterReview/reviewSummary?_csrfToken=jYiwmLcaMChAB3NSM1JQFI0oY5EvwJNW36O4TU4w&bookId='+bookId+'&chapterId='+chapterId\n",
    "print(i)\n",
    "print(url)\n",
    "print(i[1].split('/'))"
   ]
  },
  {
   "cell_type": "code",
   "execution_count": 33,
   "metadata": {
    "ExecuteTime": {
     "end_time": "2021-08-11T08:36:15.617155Z",
     "start_time": "2021-08-11T08:36:06.499535Z"
    }
   },
   "outputs": [
    {
     "name": "stdout",
     "output_type": "stream",
     "text": [
      "{'msg': 'success', 'data': {'list': [{'reviewNum': 12, 'containSelf': False, 'isHotSegment': False, 'segmentId': -1}, {'reviewNum': 1, 'containSelf': False, 'isHotSegment': False, 'segmentId': 64}, {'reviewNum': 3, 'containSelf': False, 'isHotSegment': False, 'segmentId': 65}, {'reviewNum': 2, 'containSelf': False, 'isHotSegment': False, 'segmentId': 2}, {'reviewNum': 1, 'containSelf': False, 'isHotSegment': False, 'segmentId': 66}, {'reviewNum': 10, 'containSelf': False, 'isHotSegment': False, 'segmentId': 67}, {'reviewNum': 3, 'containSelf': False, 'isHotSegment': False, 'segmentId': 9}, {'reviewNum': 2, 'containSelf': False, 'isHotSegment': False, 'segmentId': 75}, {'reviewNum': 8, 'containSelf': False, 'isHotSegment': False, 'segmentId': 13}, {'reviewNum': 33, 'containSelf': False, 'isHotSegment': False, 'segmentId': 77}, {'reviewNum': 1, 'containSelf': False, 'isHotSegment': False, 'segmentId': 17}, {'reviewNum': 8, 'containSelf': False, 'isHotSegment': False, 'segmentId': 21}, {'reviewNum': 1, 'containSelf': False, 'isHotSegment': False, 'segmentId': 22}, {'reviewNum': 11, 'containSelf': False, 'isHotSegment': False, 'segmentId': 24}, {'reviewNum': 6, 'containSelf': False, 'isHotSegment': False, 'segmentId': 25}, {'reviewNum': 1, 'containSelf': False, 'isHotSegment': False, 'segmentId': 26}, {'reviewNum': 1, 'containSelf': False, 'isHotSegment': False, 'segmentId': 27}, {'reviewNum': 4, 'containSelf': False, 'isHotSegment': False, 'segmentId': 29}, {'reviewNum': 4, 'containSelf': False, 'isHotSegment': False, 'segmentId': 33}, {'reviewNum': 1, 'containSelf': False, 'isHotSegment': False, 'segmentId': 34}, {'reviewNum': 2, 'containSelf': False, 'isHotSegment': False, 'segmentId': 35}, {'reviewNum': 6, 'containSelf': False, 'isHotSegment': False, 'segmentId': 37}, {'reviewNum': 7, 'containSelf': False, 'isHotSegment': False, 'segmentId': 38}, {'reviewNum': 8, 'containSelf': False, 'isHotSegment': False, 'segmentId': 39}, {'reviewNum': 3, 'containSelf': False, 'isHotSegment': False, 'segmentId': 40}, {'reviewNum': 9, 'containSelf': False, 'isHotSegment': False, 'segmentId': 42}, {'reviewNum': 24, 'containSelf': False, 'isHotSegment': True, 'segmentId': 43}, {'reviewNum': 2, 'containSelf': False, 'isHotSegment': False, 'segmentId': 47}, {'reviewNum': 4, 'containSelf': False, 'isHotSegment': False, 'segmentId': 49}, {'reviewNum': 12, 'containSelf': False, 'isHotSegment': False, 'segmentId': 51}, {'reviewNum': 6, 'containSelf': False, 'isHotSegment': False, 'segmentId': 56}, {'reviewNum': 5, 'containSelf': False, 'isHotSegment': False, 'segmentId': 57}, {'reviewNum': 7, 'containSelf': False, 'isHotSegment': False, 'segmentId': 58}, {'reviewNum': 6, 'containSelf': False, 'isHotSegment': False, 'segmentId': 62}, {'reviewNum': 1, 'containSelf': False, 'isHotSegment': False, 'segmentId': 63}], 'total': 35}, 'code': 0}\n"
     ]
    }
   ],
   "source": [
    "chap = requests.get('https://vipreader.qidian.com/ajax/chapterReview/reviewSummary?_csrfToken=QvdYQnyet9Faxk54wUtGeu5rNa7Z0IP9vuQD0FO2&bookId=1015792398&chapterId=492323793').json()\n",
    "print(chap)"
   ]
  },
  {
   "cell_type": "code",
   "execution_count": null,
   "metadata": {},
   "outputs": [],
   "source": [
    "def main(i):\n",
    "    if i[0] == 0:\n",
    "        os._exit(0)\n",
    "    bookId=i[1].split('/')[-2]\n",
    "    chapterId=i[1].split('/')[-1]\n",
    "    tid = i[2]\n",
    "    \n",
    " \n",
    "    time.sleep(5+random.randint(10,30))\n",
    "    chap = requests.get('https://vipreader.qidian.com/ajax/chapterReview/reviewSummary?_csrfToken=jYiwmLcaMChAB3NSM1JQFI0oY5EvwJNW36O4TU4w&bookId='+bookId+'&chapterId='+chapterId).json()\n",
    "    \n",
    "    html2=requests.get(i[0])\n",
    "    #html2.encoding = html2.apparent_encoding\n",
    "    html2=html2.text\n",
    "    html_xpath2 = etree.HTML(html2)\n",
    "    cn = html_xpath2.xpath('//*[@class=\"bookname\"]/h1/text()')\n",
    "    ct = html_xpath2.xpath('//*[@id=\"content\"]/text()')\n",
    "    segid = {}\n",
    "    # segid = []\n",
    "    # segids = []\n",
    "    for i in range(chap[\"data\"][\"total\"]):\n",
    "        flag = 1\n",
    "        num = chap[\"data\"][\"list\"][i][\"reviewNum\"]//20+1\n",
    "        with open('精灵掌门人/'+str(tid)+'说.html', \"a+\",encoding='utf-8') as f:\n",
    "            f.write('<a name=\"'+str(chap[\"data\"][\"list\"][i][\"segmentId\"])+'\">')\n",
    "            segid[chap[\"data\"][\"list\"][i][\"segmentId\"]]=chap[\"data\"][\"list\"][i][\"reviewNum\"]\n",
    "            # segid.append(chap[\"data\"][\"list\"][i][\"segmentId\"])\n",
    "            # segid.append(chap[\"data\"][\"list\"][i][\"reviewNum\"])\n",
    "            # segids.append(segid)\n",
    "            # segid = []\n",
    "            session = requests.session()\n",
    "            session.mount('http://', requests.adapters.HTTPAdapter(max_retries=20))\n",
    "            session.mount('https://', requests.adapters.HTTPAdapter(max_retries=20))\n",
    "            for j in range(num):\n",
    "                time.sleep(random.randint(1,9)+5*random.randint(1,19)+10*random.randint(1,8)+12*random.randint(1,9))\n",
    "                cont = session.get('https://read.qidian.com/ajax/chapterReview/reviewList?_csrfToken=jYiwmLcaMChAB3NSM1JQFI0oY5EvwJNW36O4TU4w^&bookId='+bookId+'&chapterId='+chapterId+'^&segmentId='+str(chap[\"data\"][\"list\"][i][\"segmentId\"])+'^&type=2^&page='+str(j+1)+'^&pageSize=20').json()#, headers=headers\n",
    "                for ii in cont[\"data\"][\"list\"]:\n",
    "                    if flag:\n",
    "                        f.write(cont[\"data\"][\"list\"][0][\"quoteContent\"]+'</a>\\n')\n",
    "                        flag = 0\n",
    "                    f.write('<p>&nbsp;&nbsp;&nbsp;&nbsp;'+ii[\"content\"]+'</p>\\n')\n",
    "                    \n",
    "            session.close()\n",
    "    with open('精灵掌门人/'+str(tid)+'说.html', \"a+\",encoding='utf-8') as f:\n",
    "        f.write('</body></html>') \n",
    "\n",
    "    shutil.copy(\"comments.html\",'精灵掌门人/'+str(tid)+'.html')\n",
    "    with open('精灵掌门人/'+str(tid)+'.html', \"a+\",encoding='utf-8') as f:\n",
    "        if segid.get(-1):\n",
    "            f.write('<h1>'+cn[0]+'<a href=\"'+str(tid)+'说.html#'+str(-1)+'\">'+str(segid.get(-1))+'</a></h1>\\n')\n",
    "        else:\n",
    "            f.write('<h1>'+cn[0]+'</h1>\\n')\n",
    "        for i in range(len(ct)):\n",
    "            if segid.get(i+1):\n",
    "                f.write('<p>'+ct[i]+'<a href=\"'+str(tid)+'说.html#'+str(i+1)+'\">'+str(segid.get(i+1))+'</a></p>\\n')\n",
    "            else:\n",
    "                f.write('<p>'+ct[i]+'</p>\\n')\n",
    "        f.write('<div style=\"text-align:center\"><a href=\"'+str(tid-1)+'.html\">上一章</a><a href=\"../精灵掌门人.html#'+str(tid)+'\">章节目录</a><a href=\"'+str(tid+1)+'.html\">下一章</a>\\n')\t\n",
    "        f.write('</body></html>')"
   ]
  },
  {
   "cell_type": "code",
   "execution_count": 53,
   "metadata": {
    "ExecuteTime": {
     "end_time": "2021-07-05T15:24:05.115220Z",
     "start_time": "2021-07-05T15:24:02.109174Z"
    }
   },
   "outputs": [],
   "source": [
    "l,n = downurl('https://www.xbiquge.la/0/70/')"
   ]
  },
  {
   "cell_type": "code",
   "execution_count": 67,
   "metadata": {
    "ExecuteTime": {
     "end_time": "2021-07-06T05:57:25.460693Z",
     "start_time": "2021-07-06T05:57:25.450719Z"
    }
   },
   "outputs": [
    {
     "name": "stdout",
     "output_type": "stream",
     "text": [
      "第二十四章 凶厉剑丸\n",
      "568\n",
      "第二十四章 凶厉剑丸\n",
      "758\n",
      "第二十四章 凶厉剑丸\n",
      "948\n"
     ]
    }
   ],
   "source": [
    "for i in range(len(n)):\n",
    "    if '剑丸' in n[i]:\n",
    "        print(n[i])\n",
    "        print(i)"
   ]
  },
  {
   "cell_type": "code",
   "execution_count": 5,
   "metadata": {
    "ExecuteTime": {
     "end_time": "2021-06-30T23:42:24.444495Z",
     "start_time": "2021-06-30T17:55:58.442309Z"
    }
   },
   "outputs": [
    {
     "name": "stdout",
     "output_type": "stream",
     "text": [
      "start\n",
      "['第十三章 “眼光出众”（保底第一更）', '第十四章 通幽（保底第二更）', '第十五章 猎杀者和被猎杀者（150票加更）', '第十六章 简单粗暴（300票加更）', '第十七章 击杀（450票加更）', '第十八章 阎罗帖（600票加更）', '第十九章 四大封印之兵（750票加更）', '第二十章 提醒（900票加更）', '第二十一章 分头追赶（1050票加更）', '第二十二章 魔主之像（保底第一更）', '第二十三章 有缘之人（保底第二更求月票）', '第二十四章 顾小桑的目的（1200加更）', '第二十五章 入山（1350票加更）', '第二十五章 门后（1500票加更）', '第二十六章 魔坟崩（1650票加更）', '第二十八章 评价（保底第一更）', '第二十九章 孟奇的准备（保底第二更求月票）', '第三十章 轮回符（1800票加更）', '第三十一章 雪神掌（1950票加更）', '第三十二章 法号真定（2100票加更）', '第三十三章 落雪刀（保底第一更）', '第三十四章 圆蒙遗信（保底第二更）', '第三十五章 有进无退（2250票加更）', '第三十六章 “热身”（2400票加更）', '第三十七章 准备（2550票加更）', '第三十八章 仇不过夜（保底第一更）', '第三十九章 顾长青（保底第二更）', '第四十章 重回流沙集', '第四十一章 年少豪气', '第四十二章 “跟踪”', '第四十三章 所以我自己来了', '第四十四章 实力的衡量（3000票加更）', '第四十五章 沈醉的遗产（3150票加更）', '第四十六章 嚣张的“马匪”', '第四十七章 入伙', '第四十八章 元孟支的打算', '最后半天，求月票（章 节已更）', '第四十九章 谢酒鬼（3450票加更）', '第五十章 起风了', '第五十一章 天诛', '第五十二章 按剑而去', '第五十三章 他乡遇“故知”', '第五十四章 妖圣遗令', '第五十五章 “世外桃源”', '第五十六章 重重阻难', '第五十七章 第五关圆满', '第五十八章 不共戴天', '第五十九章 走水', '第六十章 凶神', '第六十一章 杀人与救人（第二更求推荐票）', '第六十二章 前景“光明”（3600票加更）', '第六十三章 无错（求推荐票）', '第六十四章 截杀（第二更求推荐票）', '第六十五章 人榜（3750票加更）', '第二卷总结兼请假一日（章节已更）', '第一章 仗剑江湖闲散意（第一更求推荐票）', '第二章 天外奇石（第二更求推荐票）', '第三章 “切磋”（3900票加更）', '第四章 剑法扬威', '第五章 王氏', '第六章 病急乱投医', '第七章 夜行', '第八章 气势', '第九章 压制', '第十章 霸王绝刀（周一求推荐）', '第十一章 临真武（求推荐票）', '第十二章 小孟的“兼职”', '第十三章 真武内况', '第14章 姚家小鬼', '第十五章 邪劫', '第十六章 协作任务', '第十七章 琅琊阮氏', '第十八章 来袭', '第十九章 毒无常', '第二十章 四招', '第二十一章 夜镇山神庙', '第二十二章 剑入京师风云动', '第二十三章 拦路者', '第二十四章 剑道之说（周一求推荐票）', '第二十五章 群英汇聚（求推荐票）', '第二十六章 配合（求推荐票）', '第二十七章 三个消息', '明天开始爆发，求推荐票月票（章节已更）', '第二十八章 纵论（第一更求票）', '第二十九章 不同的态度（第二更求票）', '第三十章 再“会”（第三更求票）', '第三十一章 硬擒（第一更求票）', '第三十二章 天罗功（第二更求票）', '第三十三章 破气（第三更）', '第三十四章 天人交感（第一更求票）', '第三十五章 潜入（第二更求票）', '第三十六章 弄巧成拙', '第三十八章 老狐狸与小狐狸（第一更求保底月票）', '新书月总结兼求保底月票（章节已更）', '第三十八章 皇图霸业谈笑间（第二更求月票）', '第三十九章 黑夜已至（第三更）', '第四十章 两把“剑”（第一更求保底月票）', '第四十一章 咫尺之内，人尽敌国（第二更求月票）', '第四十二章 飘然而“去”（第三更）', '三更完毕，求月票，求周一推荐票', '第四十三章 死亡任务的压力', '第四十四章 王氏易书（求推荐票）', '第四十五章 江芷微的发现', '第四十六章 初夏雪', '第四十七章 围观群众路人孟', '第四十八章 君子之风', '第四十九章 邑城世家', '第五十章 顺路取剑，酒尚未开', '第五十一章 以彼之道', '第五十二章 独孤天刀战浑天', '第五十三章 唐明月', '第五十四章 花月之战', '第五十五章 余波', '第五十六章 破铜烂铁', '第五十七章 刀震四家', '周一求月票求推荐票（章节已更）', '第五十八章 因果（求推荐票）', '第五十九章 翻手为云覆手为雨', '第六十章 破浪一斩', '第六十一章 图穷', '第六十二章 匕现', '第六十三章 小院血战', '第六十四章 蛮不讲理的打法', '第六十五章 千面', '第六十六章 “神灵不死”', '第六十七章 邪神', '第六十八章 事了', '第六十九章 邺都初闻', '第七十章 周郡人杰谱', '第七十一章 讲故事', '周一求推荐求月票（章节已更）', '第七十二章 阴阳三合', '第七十三章 玉桥灯如昼', '第七十四章 试探', '第七十五章 “招揽”（第一更求月票）', '第七十六章 玄女传人的秘密（第二更求月票）', '第七十七章 尔虞我诈', '第七十八章 焕然一新的孟奇', '第七十九章 邺都第一战', '第八十章 江湖名局', '第八十一章 照面（第一更求票）', '第八十二章 万花酒', '第八十三章 素衣白裙招魂使', '第八十四章 巍峨之门', '第八十五章 善后', '第八十六章 六扇门中好修行', '第八十七章 人榜之争', '第八十八章 狂猛无俦（周一求推荐票）', '第八十九章 人榜更新（求推荐票）', '第九十章 狂雷震九霄', '第九十一章 起始', '第九十二章 大凶', '第九十三章 第一日', '第九十四章 活口', '第九十五章 熟妖', '第九十六章 第二日', '第九十七章 包围（求月票）', '第九十八章 山穷水尽（求月票）', '第九十九章 只差一点（求月票）', '第一百章 胜人易胜己难', '第一百零一章 心（最后半天求月票）', '第一百零二章 肉体凡胎（第一更求月票）', '十二月加更预告兼求保底月票（章节已更）', '第一百零三章 琅嬛神音（第二更求月票）', '第一百零四章 惨烈（第三更）', '第一百零五章 绝境生机（第一更求月票）', '第一百零六章 不甘心（第二更求月票）', '封推感言（求月票）', '第一百零七章 往生（第三更求月票）', '第一百零八章 青灯', '第一百零九章 回首向来萧瑟处', '第一百零七章 往生', '第一百零八章 青灯（第一更求月票）', '第一百零九章 回首向来萧瑟处（第二更求月票）', '第一百一十章 收获（第三更）', '第一百一十一章 天之伤', '第一百一十二章 千里冰封', '第一百一十三章 神都苏氏', '第一百一十四章 小苏捕头', '第一百一十五章 噩梦人生', '第一百一十六章 老钟头', '第一百一十七章 诡异的尸体', '第一百一十八章 夜深人不静', '第一百一十九章 此乃公门之地（周一求推荐票）', '求推荐票', '第一百二十章 赶尸之人', '第一百二十一章 山岳天降', '第一百二十一章 疯子', '第一百二十三章 东阳神君', '第一百二十四章 江东（第一更）', '第一百二十五章 英雄楼（第二更）', '第一百二十六章 剑快近音（第三更）', '第一百二十七章 杀意（第一更求月票）', '第一百二十八章 撞见', '第一百二十九章 境界压人', '第一百三十章 归一', '第一百三十一章 真实不虚（第二更求月票）', '第一百三十二章 不疯癫不成活（第三更求月票）', '第一百三十三章 不破茧不成蝶', '第一百三十三章 分头行动', '第一百三十五章 青帝灭长生', '周一求推荐票、月票（章节已更）', '第一百三十六章 出乎意料的线索', '第一百三十七章 思维层次（求推荐票）', '第一百三十八章 生死无常', '第一百三十九章 真武疑冢', '第一百四十章 生死转换', '第一百四十一章 太阴荡魔真诀', '第一百四十二章 镇龙台', '第一百四十三章 生平九憾', '第一百四十四章 喂招', '第一百四十五章 第二步（求月票）', '第一百四十六章 收获', '第一百四十七章 别来无恙（第一更求月票）', '第一百四十八章 都在演戏（第二更）', '第一百四十九章 试探（第三更）', '第一百五十章 猎杀（第一更）', '第一百五十一章 狼王下落的线索（第二更）', '第一百五十二章 北街（第三更求推荐票）', '第一百五十三章 两名护法', '第一百五十四章 惊醒的蛇王', '第一百五十五章 屈服', '第一百五十六章 “误”中副车', '第一百五十七章 正戏将至', '第一百五十八章 月正明', '不知不觉又一百万字了', '第一百五十九章 蒋横川的邀请', '第一百六十章 各杀一人', '第一百六十一章 布局的核心', '第一百六十二章 谁是黄雀', '第一百六十三章 江湖险恶', '第一百六十四章 一朝斩断九幽路', '第一百六十五章 东华青书（第一更求月票）', '第一百六十六章 十刀之约（第二更求月票）', '第一百六十六章 十刀之约', '第一百六十七章 恭候（第三更求月票）', '第一百六十八章 锦水一战（第一更求月票）', '第一百六十九章 泛舟湖上', '第一百七十章 行侠仗义有小孟（第三更求月票）', '第一百七十一章 名“宿”小孟', '第一百七十二章 诡异的段瑞（第二更）', '2014年最后几个小时求月票（章节已更）', '第一百七十三章 离魂症（第三更）', '祝大家元旦快乐，你们是最好的！（章节已更，求保底月票）', '第一百七十四章 九个姿势（第一更感谢大家支持）', '第一百七十五章 偏激“邪魔”（第二更求月票）', '第一百七十六章 九不神医（第三更求月票）', '第一百七十七章 过明路(第一更求月票）', '第一百七十八章 略施身手', '第一百七十九章 以刀阐理(第一更）', '第一百八十章 火皇焚乾坤（第二更求月票）', '第一百八十一章 长街一战的真实“结果”（第三更）', '第一百八十二章 不得不做（第一更求月票）', '第一百八十三章 新排名（第二更求月票）', '第一百八十四章 须臾破杀局（第三更）', '三更已毕，周一求推荐票月票', '第一百八十五章 将计就计（第一更）', '第一百八十六章 左道邪魔（第二更）', '第一百八十七章 谁来？（第三更求推荐票）', '第一百八十八章 十息（第一更求月票）', '第一百八十九章 心灵之斗（第二更）', '第一百九十章 水藏大海（第三更求月票）', '第一百九十一章 故地重游（第一更求月票）', '第一百九十二章 摩柯指（第二更）', '第一百九十三章 师徒秘话（第三更）', '第一百九十四章 武痴真本', '第一百九十五章 八魔乱世', '第一百九十六章 鉴定', '第一百九十七章 “绝世”高手', '第一百九十八章 夜守残垣', '第一百九十九章 众魔来袭', '第二百章 一刀两断', '第二百零一章 信任', '第二百零二章 忘心庐（第一更）', '今天开始继续三更，周一求推荐票（章节已更）', '第二百零三章 资深者（第二更求推荐票）', '第二百零四章 所', '第二百零五章 碧霞元君的计划', '第二百零六章 翻天印（第二更）', '第二百零七章 金皇（第三更）', '第二百零八章 假能乱真', '第二百零九章 镇魔', '第二百一十章 意识争夺（第三更求推荐票）', '第二百一十一章 挣扎', '第二百一十二章 碧霞元君的疑惑', '第二百一十三章 遭遇', '第二百一十四章 魂之剑', '第二百一十五章 九真（第一更求推荐票）', '第二百一十六章 摇签（第二更）', '第二百一十七章 补齐《易筋经》（第三更）', '第二百一十八章 任务情报（第一更）', '第二百一十九章 仙迹（第二更）', '第二百二十章 称号', '第二百二十一章 三式外景（第一更求推荐票）', '周一求推荐票和月票', '第二百二十二章 再入九乡', '第二百二十三章 雪夜（第三更求推荐票）', '第二百二十四章 雪中梅花开', '第二百二十五章 一马平川', '第二百二十六章 神宵矛法', '第二百二十七章 赤眉刀王', '第二百二十八章 战半步（两章合一）', '第二百二十九章 玄武佩的下落', '第二百三十章 山人自有妙计', '第二百三十一章 以我刀剑,谢你相送', '第二百三十二章 母女密谈', '第二百三十三章 终究得手', '第二百三十四章 精义完整', '第二百三十五章 倒霉催的北冥小队', '第二百三十六章 心似明镜台', '第二百三十七章 兴云之宴（谢谢大家的推荐票）', '第二百三十八章 青衫薄', '第二百三十九章 出乎意料的顺利', '第二百四十章 悉由命定', '明天开始三更，求推荐票月票（章节已更）', '第二百四十一章 戒杀（第一更）', '第二百四十二章 诡异的沈家（第二更）', '第二百四十三章 黑夜狂奔（第三更求月票）', '第二百四十四章 勤俭持家的小孟（第一更求月票）', '第二百四十五章 劈柴斩心', '第二百四十六章 十里天秀（第三更）', '第二百四十七章 不愁前路无“知己”（第一更）', '第二百四十八章 初见何九（第二更求月票）', '第二百四十九章 刀法指点（第三更）', '承诺完成，感谢大家，拜求保底月票（章节已更）', '第二百五十章 风起郢城（第一更谢黄金总盟script）', '感谢script打赏黄金盟，求保底月票（章节已更）', '第二百五十一章 给人挫折（第二更求月票）', '第二百五十二章 一力降十会（第三更）', '第二百五十三章 意外之客（第一更求推荐票）', '第二百五十四章 匆匆而散（第二更求月票）', '第二百五十五章 路见不平（第三更贺黄金总盟script）', '三更送上，求月票，求推荐票！', '第二百五十六章 意外得到的线索（求月票）', '第二百五十七章 横插一手', '关于调整二月更新时间的公告（章节已更求月票）', '第二百五十八章 半山亭之会', '第二百五十九章 战而不战 全凭己心', '第二百六十章 联手之秘', '第二百六十一章 虎踞龙盘', '第二百六十二章 前朝旧事多', '第二百六十三章 河心烟雨酿', '第二百六十四章 踏破铁鞋无觅处', '第二百六十五章 笑看风云起', '第二百六十六章 万古大劫', '第二百六十七章 人榜第一', '第二百六十八章 除旧迎新（求推荐票月票）', '章节已更，周一求推荐票和月票', '第二百六十九章 山摇地动', '第二百七十章 苍天有怒,五雷轰顶', '第二百七十一章 真正的左道邪魔', '第二百七十二章 莫名人物', '第二百七十三章 双星耀世', '第二百七十四章 古道（求月票）', '第二百七十五章 意外之财', '第二百七十六章 两个醉鬼', '第二百七十七章 金刚印（求月票）', '第二百七十八章 新人（就不说那啥节快乐了）', '第二百七十九章 不是人（求月票）', '第二百八十章 知易行难', '第二百八十一章 火遁', '第二百八十二章 大宁', '人生三十，路自此起（章节已更）', '第二百八十三章 异人（求月票推荐票）', '第二百八十四章 成功混入的好处（两章 合一）', '第二百八十五章 虫人（新年快乐）', '第二百八十六章 巫术人偶', '三羊开泰，吉祥如意，乌贼给大家拜年了（章节已更）', '第二百八十七章 老祖（大家羊年好）', '第二百八十八章 虚与委蛇', '第二百八十九章 江湖骗子小孟', '第二百九十章 各有等待', '第二百九十一章 斗谋', '第二百九十二章 斩断联系', '第二百九十三章 死不瞑目', '第二百九十四章 阴阳镜', '第二百九十五章 无人敢撄其锋', '第二百九十六章 向死求生', '第二百九十七章 孟奇的选择', '第二百九十八章 屠鸡剑神当日事', '第二百九十九章 北上', '第三百章 江湖多苦', '第三百零一章 得来全不费工夫', '第三百零二章 无忧谷', '最后两天半求月票（章节已更）', '第三百零三章 你敢去吗？', '第三百零四章 雪山', '第三百零五章 黄粱', '第三百零六章 真实之界', '感谢大家，总榜第三，同时拜求保底月票', '第三百零七章 意外的重临（求保底月票）', '第三百零八章 故人（第二更求保底月票）', '第三百零九章 精神奇旅', '三更送上，周一求推荐票和月票（章节已更）', '第三百一十章 苦海无边，回头是岸（第一更求月票）', '第三百一十一章 神剑木偶', '第三百一十二章 惊神剑与剑皇落日峰之战（第三更求月票）', '第三百一十三章 老乌恩', '第三百一十四章 萨满', '第三百一十五章 杀狼会的情报', '第三百一十六章 初会', '第三百一十七章 “等待”', '第三百一十八章 激烈交锋', '第三百一十九章 生死一线间（求月票）', '第三百二十章 事后', '第三百二十一章 灵宝天尊', '第三百二十二章 天下喧动我自静', '第三百二十三章 日明风懒杀人天', '第三百二十四章 琼华宴', '第三百二十五章 堂堂正正入神都', '第三百二十六章 小楼一夜听秋雨', '第三百二十七章 负尽狂名', '第三百二十八章 两份请帖', '第三百二十九章 歪防正着', '第三百三十章 奖赏之事', '第三百三十一章 柳漱玉', '第三百三十二章 气势压制', '第三百三十三章 大水冲了龙王庙', '第三百三十四章 圣皇魔令', '明天开始三更，求月票（章 节已更）', '第三百三十五章 总捕头（第一更）', '第三百三十六章 “狭”路相逢（第二更）', '第三百三十七章 混战（第三更）', '第三百三十八章 鸟兽散（第一更）', '第三百三十九章 斗姆元君', '第三百四十章 “放弃前嫌”', '第三百四十一章 崔清羽', '第三百四十二章 琼华宴', '第三百四十三章 诚于武道者', '第三百四十四章 无字之碑', '第三百四十五章 感悟（两章合一）', '第三百四十六章 幻境遭遇战', '第三百四十七章 玉林苑之变', '第三百四十八章 六灭落神掌', '第三百四十九章 一刀开混沌', '第三百五十章 劫变', '第三百五十一章 满堂花醉三千客（第二和第三更）', '第三百五十二章 仰天大笑出门去', '第一章 相逢一笑（周一求推荐票）', '第二章 提醒', '第二十一章 分头追赶', '第二章 提醒', '第三章 西北望', '第四章 哈勒', '第五章 外景初战', '第六章 瀚海险地', '第七章 看门人', '第八章 奇怪阴灵', '第九章 神庙', '第十章 奸诈', '第十一章 生门', '第十二章 终下黑手', '第十三章 祖灵', '第十四章 坏得彻底', '第十五章 他疯了', '第十六章 画出来的门', '第十七章 一剑', '第十八章 玄水荡魔旗', '第十九章 挑选（第二更求月票）', '第二十章 鉴定收获', '第二十一章 奇怪的门', '四月求保底兼说些事情（章节已更）', '第二十二章 因果之刀（第二更求保底）', '第二十三章 别有洞天（第三更求月票）', '第二十三章 机关术', '第二十四章 凶厉剑丸', '第二百零五章 碧霞元君的计划（第一更）', '第二百零六章 翻天印（第二更）', '第二百零七章 金皇（第三更）', '第二百零八章 假能乱真', '第二百零九章 镇魔', '第二百一十章 意识争夺（第三更求推荐票）', '第二百一十一章 挣扎', '第二百一十二章 碧霞元君的疑惑', '第二百一十三章 遭遇', '第二百一十四章 魂之剑', '第二百一十五章 九真（第一更求推荐票）', '第二百一十六章 摇签（第二更）', '第二百一十七章 补齐《易筋经》（第三更）', '第二百一十八章 任务情报（第一更）', '第二百一十九章 仙迹（第二更）', '第二百二十章 称号', '第二百二十一章 三式外景（第一更求推荐票）', '周一求推荐票和月票', '第二百二十二章 再入九乡', '第二百二十三章 雪夜（第三更求推荐票）', '第二百二十四章 雪中梅花开', '第二百二十五章 一马平川', '第二百二十六章 神宵矛法', '第二百二十七章 赤眉刀王', '第二百二十八章 战半步（两章合一）', '第二百二十九章 玄武佩的下落', '第二百三十章 山人自有妙计', '第二百三十一章 以我刀剑,谢你相送', '第二百三十二章 母女密谈', '第二百三十三章 终究得手', '第二百三十四章 精义完整', '第二百三十五章 倒霉催的北冥小队', '第二百三十六章 心似明镜台', '第二百三十七章 兴云之宴（谢谢大家的推荐票）', '第二百三十八章 青衫薄', '第二百三十九章 出乎意料的顺利', '第二百四十章 悉由命定', '明天开始三更，求推荐票月票（章节已更）', '第二百四十一章 戒杀（第一更）', '第二百四十二章 诡异的沈家（第二更）', '第二百四十三章 黑夜狂奔（第三更求月票）', '第二百四十四章 勤俭持家的小孟（第一更求月票）', '第二百四十五章 劈柴斩心', '第二百四十六章 十里天秀（第三更）', '第二百四十七章 不愁前路无“知己”（第一更）', '第二百四十八章 初见何九（第二更求月票）', '第二百四十九章 刀法指点（第三更）', '承诺完成，感谢大家，拜求保底月票（章节已更）', '第二百五十章 风起郢城（第一更谢黄金总盟script）', '感谢script打赏黄金盟，求保底月票（章节已更）', '第二百五十一章 给人挫折（第二更求月票）', '第二百五十二章 一力降十会（第三更）', '第二百五十三章 意外之客（第一更求推荐票）', '第二百五十四章 匆匆而散（第二更求月票）', '第二百五十五章 路见不平（第三更贺黄金总盟script）', '三更送上，求月票，求推荐票！', '第二百五十六章 意外得到的线索（求月票）', '第二百五十七章 横插一手', '关于调整二月更新时间的公告（章节已更求月票）', '第二百五十八章 半山亭之会', '第二百五十九章 战而不战 全凭己心', '第二百六十章 联手之秘', '第二百六十一章 虎踞龙盘', '第二百六十二章 前朝旧事多', '第二百六十三章 河心烟雨酿', '第二百六十四章 踏破铁鞋无觅处', '第二百六十五章 笑看风云起', '第二百六十六章 万古大劫', '第二百六十七章 人榜第一', '第二百六十八章 除旧迎新（求推荐票月票）', '章节已更，周一求推荐票和月票', '第二百六十九章 山摇地动', '第二百七十章 苍天有怒,五雷轰顶', '第二百七十一章 真正的左道邪魔', '第二百七十二章 莫名人物', '第二百七十三章 双星耀世', '第二百七十四章 古道（求月票）', '第二百七十五章 意外之财', '第二百七十六章 两个醉鬼', '第二百七十七章 金刚印（求月票）', '第二百七十八章 新人（就不说那啥节快乐了）', '第二百七十九章 不是人（求月票）', '第二百八十章 知易行难', '第二百八十一章 火遁', '第二百八十二章 大宁', '人生三十，路自此起（章节已更）', '第二百八十三章 异人（求月票推荐票）', '第二百八十四章 成功混入的好处（两章 合一）', '第二百八十五章 虫人（新年快乐）', '第二百八十六章 巫术人偶', '三羊开泰，吉祥如意，乌贼给大家拜年了（章节已更）', '第二百八十七章 老祖（大家羊年好）', '第二百八十八章 虚与委蛇', '第二百八十九章 江湖骗子小孟', '第二百九十章 各有等待', '第二百九十一章 斗谋', '第二百九十二章 斩断联系', '第二百九十三章 死不瞑目', '第二百九十四章 阴阳镜', '第二百九十五章 无人敢撄其锋', '第二百九十六章 向死求生', '第二百九十七章 孟奇的选择', '第二百九十八章 屠鸡剑神当日事', '第二百九十九章 北上', '第三百章 江湖多苦', '第三百零一章 得来全不费工夫', '第三百零二章 无忧谷', '最后两天半求月票（章节已更）', '第三百零三章 你敢去吗？', '第三百零四章 雪山', '第三百零五章 黄粱', '第三百零六章 真实之界', '感谢大家，总榜第三，同时拜求保底月票', '第三百零七章 意外的重临（求保底月票）', '第三百零八章 故人（第二更求保底月票）', '第三百零九章 精神奇旅', '三更送上，周一求推荐票和月票（章节已更）', '第三百一十章 苦海无边，回头是岸（第一更求月票）', '第三百一十一章 神剑木偶', '第三百一十二章 惊神剑与剑皇落日峰之战（第三更求月票）', '第三百一十三章 老乌恩', '第三百一十四章 萨满', '第三百一十五章 杀狼会的情报', '第三百一十六章 初会', '第三百一十七章 “等待”', '第三百一十八章 激烈交锋', '第三百一十九章 生死一线间（求月票）', '第三百二十章 事后', '第三百二十一章 灵宝天尊', '第三百二十二章 天下喧动我自静', '第三百二十三章 日明风懒杀人天', '第三百二十四章 琼华宴', '第三百二十五章 堂堂正正入神都', '第三百二十六章 小楼一夜听秋雨', '第三百二十七章 负尽狂名', '第三百二十八章 两份请帖', '第三百二十九章 歪防正着', '第三百三十章 奖赏之事', '第三百三十一章 柳漱玉', '第三百三十二章 气势压制', '第三百三十三章 大水冲了龙王庙', '第三百三十四章 圣皇魔令', '明天开始三更，求月票（章 节已更）', '第三百三十五章 总捕头（第一更）', '第三百三十六章 “狭”路相逢（第二更）', '第三百三十七章 混战（第三更）', '第三百三十八章 鸟兽散（第一更）', '第三百三十九章 斗姆元君', '第三百四十章 “放弃前嫌”', '第三百四十一章 崔清羽', '第三百四十二章 琼华宴', '第三百四十三章 诚于武道者', '第三百四十四章 无字之碑', '第三百四十五章 感悟（两章合一）', '第三百四十六章 幻境遭遇战', '第三百四十七章 玉林苑之变', '第三百四十八章 六灭落神掌', '第三百四十九章 一刀开混沌', '第三百五十章 劫变', '第三百五十一章 满堂花醉三千客（第二和第三更）', '第三百五十二章 仰天大笑出门去', '第一章 相逢一笑（周一求推荐票）', '第二章 提醒', '第三章 西北望', '第四章 哈勒', '第五章 外景初战', '第六章 瀚海险地', '第七章 看门人', '第八章 奇怪阴灵', '第九章 神庙', '第十章 奸诈', '第十一章 生门', '第十二章 终下黑手', '第十三章 祖灵', '第十四章 坏得彻底', '第十五章 他疯了', '第十六章 画出来的门', '第十七章 一剑', '第十八章 玄水荡魔旗', '第十九章 挑选（第二更求月票）', '第二十章 鉴定收获', '第二十一章 奇怪的门', '四月求保底兼说些事情（章节已更）', '第二十二章 因果之刀（第二更求保底）', '第二十三章 别有洞天（第三更求月票）', '第二十三章 机关术', '第二十四章 凶厉剑丸', '第二百零五章 碧霞元君的计划（第一更）', '第二百零六章 翻天印（第二更）', '第二百零七章 金皇（第三更）', '第二百零八章 假能乱真', '第二百零九章 镇魔', '第二百一十章 意识争夺（第三更求推荐票）', '第二百一十一章 挣扎', '第二百一十二章 碧霞元君的疑惑', '第二百一十三章 遭遇', '第二百一十四章 魂之剑', '第二百一十五章 九真（第一更求推荐票）', '第二百一十六章 摇签（第二更）', '第二百一十七章 补齐《易筋经》（第三更）', '第二百一十八章 任务情报（第一更）', '第二百一十九章 仙迹（第二更）', '第二百二十章 称号', '第二百二十一章 三式外景（第一更求推荐票）', '周一求推荐票和月票', '第二百二十二章 再入九乡', '第二百二十三章 雪夜（第三更求推荐票）', '第二百二十四章 雪中梅花开', '第二百二十五章 一马平川', '第二百二十六章 神宵矛法', '第二百二十七章 赤眉刀王', '第二百二十八章 战半步（两章合一）', '第二百二十九章 玄武佩的下落', '第二百三十章 山人自有妙计', '第二百三十一章 以我刀剑,谢你相送', '第二百三十二章 母女密谈', '第二百三十三章 终究得手', '第二百三十四章 精义完整', '第二百三十五章 倒霉催的北冥小队', '第二百三十六章 心似明镜台', '第二百三十七章 兴云之宴（谢谢大家的推荐票）', '第二百三十八章 青衫薄', '第二百三十九章 出乎意料的顺利', '第二百四十章 悉由命定', '明天开始三更，求推荐票月票（章节已更）', '第二百四十一章 戒杀（第一更）', '第二百四十二章 诡异的沈家（第二更）', '第二百四十三章 黑夜狂奔（第三更求月票）', '第二百四十四章 勤俭持家的小孟（第一更求月票）', '第二百四十五章 劈柴斩心', '第二百四十六章 十里天秀（第三更）', '第二百四十七章 不愁前路无“知己”（第一更）', '第二百四十八章 初见何九（第二更求月票）', '第二百四十九章 刀法指点（第三更）', '承诺完成，感谢大家，拜求保底月票（章节已更）', '第二百五十章 风起郢城（第一更谢黄金总盟script）', '感谢script打赏黄金盟，求保底月票（章节已更）', '第二百五十一章 给人挫折（第二更求月票）', '第二百五十二章 一力降十会（第三更）', '第二百五十三章 意外之客（第一更求推荐票）', '第二百五十四章 匆匆而散（第二更求月票）', '第二百五十五章 路见不平（第三更贺黄金总盟script）', '三更送上，求月票，求推荐票！', '第二百五十六章 意外得到的线索（求月票）', '第二百五十七章 横插一手', '关于调整二月更新时间的公告（章节已更求月票）', '第二百五十八章 半山亭之会', '第二百五十九章 战而不战 全凭己心', '第二百六十章 联手之秘', '第二百六十一章 虎踞龙盘', '第二百六十二章 前朝旧事多', '第二百六十三章 河心烟雨酿', '第二百六十四章 踏破铁鞋无觅处', '第二百六十五章 笑看风云起', '第二百六十六章 万古大劫', '第二百六十七章 人榜第一', '第二百六十八章 除旧迎新（求推荐票月票）', '章节已更，周一求推荐票和月票', '第二百六十九章 山摇地动', '第二百七十章 苍天有怒,五雷轰顶', '第二百七十一章 真正的左道邪魔', '第二百七十二章 莫名人物', '第二百七十三章 双星耀世', '第二百七十四章 古道（求月票）', '第二百七十五章 意外之财', '第二百七十六章 两个醉鬼', '第二百七十七章 金刚印（求月票）', '第二百七十八章 新人（就不说那啥节快乐了）', '第二百七十九章 不是人（求月票）', '第二百八十章 知易行难', '第二百八十一章 火遁', '第二百八十二章 大宁', '人生三十，路自此起（章节已更）', '第二百八十三章 异人（求月票推荐票）', '第二百八十四章 成功混入的好处（两章 合一）', '第二百八十五章 虫人（新年快乐）', '第二百八十六章 巫术人偶', '三羊开泰，吉祥如意，乌贼给大家拜年了（章节已更）', '第二百八十七章 老祖（大家羊年好）', '第二百八十八章 虚与委蛇', '第二百八十九章 江湖骗子小孟', '第二百九十章 各有等待', '第二百九十一章 斗谋', '第二百九十二章 斩断联系', '第二百九十三章 死不瞑目', '第二百九十四章 阴阳镜', '第二百九十五章 无人敢撄其锋', '第二百九十六章 向死求生', '第二百九十七章 孟奇的选择', '第二百九十八章 屠鸡剑神当日事', '第二百九十九章 北上', '第三百章 江湖多苦', '第三百零一章 得来全不费工夫', '第三百零二章 无忧谷', '最后两天半求月票（章节已更）', '第三百零三章 你敢去吗？', '第三百零四章 雪山', '第三百零五章 黄粱', '第三百零六章 真实之界', '感谢大家，总榜第三，同时拜求保底月票', '第三百零七章 意外的重临（求保底月票）', '第三百零八章 故人（第二更求保底月票）', '第三百零九章 精神奇旅', '三更送上，周一求推荐票和月票（章节已更）', '第三百一十章 苦海无边，回头是岸（第一更求月票）', '第三百一十一章 神剑木偶', '第三百一十二章 惊神剑与剑皇落日峰之战（第三更求月票）', '第三百一十三章 老乌恩', '第三百一十四章 萨满', '第三百一十五章 杀狼会的情报', '第三百一十六章 初会', '第三百一十七章 “等待”', '第三百一十八章 激烈交锋', '第三百一十九章 生死一线间（求月票）', '第三百二十章 事后', '第三百二十一章 灵宝天尊', '第三百二十二章 天下喧动我自静', '第三百二十三章 日明风懒杀人天', '第三百二十四章 琼华宴', '第三百二十五章 堂堂正正入神都', '第三百二十六章 小楼一夜听秋雨', '第三百二十七章 负尽狂名', '第三百二十八章 两份请帖', '第三百二十九章 歪防正着', '第三百三十章 奖赏之事', '第三百三十一章 柳漱玉', '第三百三十二章 气势压制', '第三百三十三章 大水冲了龙王庙', '第三百三十四章 圣皇魔令', '明天开始三更，求月票（章 节已更）', '第三百三十五章 总捕头（第一更）', '第三百三十六章 “狭”路相逢（第二更）', '第三百三十七章 混战（第三更）', '第三百三十八章 鸟兽散（第一更）', '第三百三十九章 斗姆元君', '第三百四十章 “放弃前嫌”', '第三百四十一章 崔清羽', '第三百四十二章 琼华宴', '第三百四十三章 诚于武道者', '第三百四十四章 无字之碑', '第三百四十五章 感悟（两章合一）', '第三百四十六章 幻境遭遇战', '第三百四十七章 玉林苑之变', '第三百四十八章 六灭落神掌', '第三百四十九章 一刀开混沌', '第三百五十章 劫变', '第三百五十一章 满堂花醉三千客（第二和第三更）', '第三百五十二章 仰天大笑出门去', '第一章 相逢一笑（周一求推荐票）', '第二章 提醒', '第三章 西北望', '第四章 哈勒', '第五章 外景初战', '第六章 瀚海险地', '第七章 看门人', '第八章 奇怪阴灵', '第九章 神庙', '第十章 奸诈', '第十一章 生门', '第十二章 终下黑手', '第十三章 祖灵', '第十四章 坏得彻底', '第十五章 他疯了', '第十六章 画出来的门', '第十七章 一剑', '第十八章 玄水荡魔旗', '第十九章 挑选（第二更求月票）', '第二十章 鉴定收获', '第二十一章 奇怪的门', '四月求保底兼说些事情（章节已更）', '第二十二章 因果之刀（第二更求保底）', '第二十三章 别有洞天（第三更求月票）', '第二十三章 机关术', '第二十四章 凶厉剑丸', '第二十六章 上古练气士', '第二十七章 炼气通神', '第二十八章 力拔山兮', '第二十九章 云鹤真人', '第三十章 上古之闻', '第三十一章 考验', '第三十二章 开此方武道（求推荐票）', '第三十三章 风波起', '第三十四章 你因果缠身', '第三十五章 纷乱鱼海', '第三十六章 知进退', '第三十七章 十心上人', '第三十八章 断未来', '第三十九章 雪冷钊的提醒', '第四十章 刁难还是觊觎', '第四十一章 另一根手骨', '第四十二章 合纵连横', '第四十三章 寻觅瞿九娘', '第四十四章 另辟蹊径', '第四十五章 真假九娘', '第四十六章 啸月神犬', '周一求推荐票并推举一本书（章节已更）', '第四十七章 各自后手（求推荐票）', '第四十八章 选择', '第四十九章 情义善仁，莫入此门', '第五十章 “照见”自身', '第五十一章 天之始，无阴阳', '第五十二章 引“外魔”', '第五十三章 两边的联系', '第五十四章 两道因果', '第五十五章 此刀初成', '第五十六章 蛛丝马迹串成线', '第五十七章 早一步', '第五十八章 无解之刀', '第五十九章 因果加身', '第六十章 灵宝的推测', '第六十一章 长生丹（求推荐票）', '第六十二章 一剑破阵', '第六十三章 冲和的真正实力', '第六十四章 白热化', '第六十五章 枭雄之姿', '第六十六章 半途截胡', '第六十七章 兰柯寺', '第六十八章 “保命咒”', '第六十九章 告别老爷爷', '第七十章 第十个入口', '第七十一章 扁舟拦路', '第七十二章 以退为进', '第七十三章 大日神巫', '第七十四章 阴阳变（周一求推荐票）', '第七十五章 玉虚门下', '第七十六章 药精的畏惧', '第七十七章 说书人（求双倍月票）', '第七十八章 你一事我一事（求月票）', '有点卡文，晚上那章会比较迟（章节已更）', '第七十九章 江湖还是那个江湖', '第八十章 请柬（第一更）', '第八十一章 作弊', '第八十二章 九指之人', '第八十三章 迈过八九第一难', '第八十四章 解封手骨', '第八十五章 准备（求月票）', '第八十六章 汉地博乐', '第八十七章 述苦之会', '第八十八章 被吓到的博乐君', '第八十九章 初逢“异术”', '第九十章 出乎意料的“口供”', '第九十一章 玉虚之异', '第九十二章 刷声望', '第九十三章 三策除危（求月票）', '第九十四章 杀之无罪', '第九十五章 上营的变化', '第九十六章 釜底抽薪', '第九十七章 可怕之箭', '第九十八章 搜捕', '第九十九章 有术有法无有道', '第一百章 诛不义', '第一百零一章 艺高人胆大', '第一百零二章 公羊授首', '第一百零三章 老道士的身份', '第一百零四章 玉虚之事', '第一百零五章 分“赃”', '第一百零六章 天庭碎片', '第一百零七章 铁衣楼', '第一百零八章 “毒手”的请托', '第一百零九章 幻焉？真焉？', '第一百一十章 “仇”人见面', '第一百一十一章 佛法魔功', '第一百一十二章 蹊跷的炉鼎', '第一百一十三章 初至临海', '第一百一十四章 魔痕', '第一百一十五章 灵堂之见（第一更求推荐票）', '第一百一十六章 何九的异常（第二更求推荐票）', '第一百一十七章 控水入微（第三更）', '第一百一十八章 剑庄支脉', '第一百一十九章 魔威', '第一百二十章 圣者再随', '第一百二十一章 还没开始就破灭的计划', '第一百二十二章 素女道', '第一百二十三章 离华初闻', '第一百二十四章 怜欲之试', '第一百二十五章 商水仙子', '第一百二十六章 与妖女的商议', '第一百二十七章 昔年仙界', '第一百二十八章 过险境如平地', '第一百二十九章 内部有应好成事', '第一百三十章 姜是老的辣', '第一百三十一章 抵天之树', '第一百三十二章 霸王六斩', '第一百三十三章 风雨故人来', '第一百三十四章 心中深埋一口刀', '第一百三十五章 不发则罢', '第一百三十六章 接连拜访', '第一百三十七章 有无相剑气', '第一百三十八章 神通', '第一百三十九章 一剑破阵', '第一百四十章 无相', '第一百四十一章 精血性命为引', '第一百四十二章 神兵之争', '第一百四十三章 两大邪魔（谢谢大家）', '第一百四十四章 轰轰烈烈葬星河', '第一百四十五章 琴弦动', '第一百四十六章 以茶喻人', '第一百四十七章 重返九乡', '第一百四十八章 传说再续', '第一百四十九章 恶念现身', '请假一章,明天补', '第一百五十章 上古秘闻', '第一百五十一章 实力不够眼光存', '第一百五十二章 歪打正着', '第一百五十三章 小有收获', '第一百五十四章 杨戬的去向', '第一百五十五章 信任', '第一百五十六章 水泼不入的禁地', '第一百五十七章 谋划人心', '第一百五十八章 她要杀你', '第一百五十九章 声东击西再击西', '连续三天三更,求月票推荐票', '第一百六十章 地仙遗蜕', '第一百六十一章 宝库', '第一百六十二章 空有蛮力', '第一百六十三章 鉴定', '第一百六十四章 心灵之旅', '今天开会,请假一章', '第一百六十五章 五指山', '第一百六十六章 南天门', '第一百六十七章 老祖宗', '第一百六十八章 宗师之威（第二更）', '第一百六十九章 天河浮岛（第三更）', '第一百七十章 天河？银河？（第一更）', '第一百七十一章 天马拉车（第二更）', '第一百七十一章 天马拉车（第二更）', '第一百七十二章 杀妖', '第一百七十三章 迷阵暗流', '第一百七十四章 任务变更（第二更）', '第一百七十五章 断尾求生（第三更）', '又是三天三更，求月票推荐票（章节已更）', '第一百七十六章 遨游星河（求月票推荐票）', '第一百七十七章 任务情况（求月票推荐票）', '第一百七十八章 反常（求推荐票）', '第一百七十九章 坦然', '明天第一章十二点半更新', '请假一章整理情节', '第一百八十章 只叹江湖几人回', '第一百八十一章 隔岸观火', '第一百八十二章 人约黄昏后', '第一百八十三章 月上柳梢头（第一更）', '第一百八十四章 如是我见', '第一百八十五章 你有张良计，我有过墙梯', '第一百八十六章 老谋深算（第一更）', '第一百八十七章 索命园（第二更）', '第一百八十八章 一个妖异的桃子（第三更）', '第一百八十九章 天罚门（第一更）', '第一百九十章 心思难测', '第一百九十一章 剑来', '第一百九十二章 杀开道路（第三更）', '第一百九十三章 三生殿', '第一百九十四章 装疯卖傻', '第一百九十五章 又是一颗树（第三更）', '第一百九十六章 想太多（求月票）', '第一百九十七章 走到哪里都不平静的男人', '第一百九十八章 藏在“过去”的巨影', '第一百九十九章 刀剑讲述的“故事”', '第二百章 来自万古前的攻击', '第二百零一章 留言', '第二百零二章 求鉴定（第一更求月票）', '第二百零三章 南荒事（第二更）', '第二百零四章 “品鉴”功法（第一更）', '第二百零五章 容我死一会儿（第二更）', '第二百零六章 死前所见（第三更求推荐票）', '第二百零七章 他们是谁（第一更求月票）', '第二百零八章 福焉？祸焉？（第二更求月票）', '第二百零九章 “垂钓”者（第三更）', '第二百一十章 杀鸡儆猴', '第二百一十一章 前有剑神苏无名', '第二百一十二章 再返永生谷（第三更）', '第三更送上，感谢大家兼求保底月票', '第二百一十三章 古镜（第一更求月票）', '第二百一十四章 又（第二更求月票）', '第二百一十五章 冲和的霸气', '第二百一十六章 死亡任务之前（求月票）', '第二百一十七章 必先利其器', '明天开始继续三更，求月票（章节已更）', '第二百一十八章 外有敌，内不安（第一更求月票）', '第二百一十九章 顽石真人的请托（第二更求月票）', '第二百二十章 闻景（第三更求月票）', '第二百二十一章 打草惊蛇（第一更求月票）', '第二百二十二章 真男人从不回头看爆炸（第二更求月票）', '第二百二十三章 天下一品（第三更）', '又是三更，求月票！（章节已更）', '第二百二十四章 枭雄', '第二百二十五章 经验的重要', '第二百二十六章 疯狂的苗聪', '周一提前更新，求推荐票月票（章节已更）', '第二百二十七章 无耻小孟（求月票）', '第二百二十八章 世间安得双全法', '第二百二十九章 前夕', '第二百三十章 通天路', '第二百三十一章 磨刀不误砍柴工（求月票）', '第二百三十二章 闯祭台', '第二百三十三章 兔起鹘落（求月票）', '第二百三十四章 那一剑的风情（两连更求月票）', '第二百三十五章 别离（第一更求月票）', '第二百三十六章 各自的轮回（第二更求月票）', '第二百三十七章 极于情者极于剑（第三更求月票）', '第二百三十八章 完善内景（第一更求月票）', '说两句心里话（章节已更，剩下两章在晚上）', '第二百三十九章 石家堡（第二更）', '第二百四十章 金帐奸细（第三更求推荐票）', '第二百四十一章 瓮中捉鳖', '第二百四十二章 当世豪杰', '第二百四十三章 可怕的刺客', '第二百四十四章 一分为三之术', '第二百四十五章 人生自是有为难', '第二百四十六章 风起云涌，大世将至', '第二百四十七章 无耻“开挂”', '第二百四十八章 矩子归来', '第二百四十九章 君子报仇，就在今时', '第二百五十章 凭你？', '第二百五十一章 元磁之域', '第二百五十二章 莫名感应', '第二百五十三章 暗流', '今天两章八千，明天三更，求月票推荐票（章节已更）', '第二百五十四章 玉虚宫前（第一更求推荐票）', '第二百五十五章 失望与希望（第二更求推荐票）', '第二百五十六章 杀人重过取宝（第三更求推荐票）', '第二百五十七章 不死药', '第二百五十八章 老母', '第二百五十九章 一掌换一刀', '第二百六十章 最意外的发现（求月票）', '第二百六十一章 玉虚异变', '第二百六十二章 诈大青根', '第二百六十三章 突如其来的恶意', '第二百六十四章 云鹤的要求', '第二百六十五章 极恶天魔', '第二百六十六章 混沌劫中无善恶', '第二百六十七章 以元心通他心', '第二百六十八章 震撼消息', '第二百六十九章 各自算盘', '第二百七十章 韩广给的秘密任务', '第二百七十一章 “调查团”成员', '第二百七十二章 他心通（求月票推荐票）', '第二百七十三章 内讧团', '第二百七十四章 死不瞑目', '第二百七十五章 再临巴彦（求月票）', '第二百七十六章 六欲之死（求月票）', '第二百七十七章 不走寻常路（求月票）', '第二百七十八章 现世报，来得快', '第二百七十八章 直面顾小桑（求保底月票）', '第二百七十九章 准备妥当', '第二百八十章 满座黑榜无人动（两章连更求月票）', '第二百八十章 满座黑榜无人动(两章 连更)', '第二百八十一章 正道的布置', '三更完毕，求月票和周一推荐票（章节已更）', '第二百八十二章 护短', '第二百八十三章 围攻藏剑楼（求月票）', '第二百八十四章 百万军中取上将首级（两章合一求月票）', '两章合一已更，求月票', '第二百八十五章 宿敌（求月票）', '第二百八十六章 双星（求月票）', '第二百八十七章 对过去疑问的答案', '第二百八十八章 天外神剑', '第二百八十九章 只手能翻天下浪', '第二百九十章 大战尾声', '第二百九十一章 碧游宫内的留言', '第二百九十二章 打开封印的办法（第一更）', '第二百九十三章 天榜和地榜更新（第二更）', '第二百九十四章 已成家主的王思远（第三更求月票推荐票）', '卡文，今天两章晚上更新', '第二百九十五章 过门而不入', '第二百九十六章 狂客与狂刀', '请假一天调整状态', '第二百九十七章 武道之心', '第二百九十八章 流罗', '第二百九十九章 路遇', '第三百章 再遇蓝血人', '第三百零一章 驱“羊”探路', '第三百零二章 人心六道', '第三百零三章 被鄙视的天魔', '第三百零四章 透露的消息', '不知不觉又是一年以及**（章节已更）', '第三百零五章 磨刀石', '第三百零六章 结善缘（周一求推荐票）', '第三百零七章 幻魔之域（求推荐票）', '第三百零八章 极北之人（求推荐票）', '第三百零九章 真身（第一更）', '第三百一十章 同样的路（第二更）', '第三百一十一章 太上天魔的遗言（第三更）', '第三百一十二章 有缘（第一更）', '第三百一十三章 创造机会（第二更）', '第三百一十四章 一扫阴霾（第三更）', '第三百一十五章 秘境之事', '第三百一十六章 三神技', '第三百一十七章 苍天已死', '第三百一十八章 兰若寺（第二更）', '第三百一十九章 被“推迟”的缘分（第三更）', '第三百二十章 主动逼迫', '第三百二十一章 孟奇的“存档点”', '第三百二十二章 有点意思', '第三百二十三章 无助的南宫冲', '章节已更，求月票~', '第三百二十四章 攻略“挂”', '第三百二十五章 遭遇', '嘿嘿，申请婚假一章（今天第二章已更）', '第三百二十六章 事情最初', '第三百二十七章 熟练的宣传手法', '第三百二十八章 “证据”', '第三百二十九章 告一段落', '第三百三十章 姥姥', '第三百三十一章 语不惊人死不休', '第三百三十二章 确认', '请假一天，下周补', '第三百三十三章 拉拢帮手', '第三百三十四章 七杀碑', '第三百三十五章 南宫冲“新”的一天', '第三百三十六章 监狱', '第三百三十七章 午夜凶“铃”（求月票）', '第三百三十八章 七杀碑', '关于九月（章节已更）', '第三百三十九章 黄天已立', '第三百四十章 回归', '第三百四十一章 七杀碑的限制', '第三百四十二章 恐吓大青根（第二更）', '第三百四十三章 衣锦还乡（第三更）', '第三百四十四章 神兵到手', '第三百四十五章 不速之客', '第三百四十六章 一人当一派', '第三百四十七章 查阅卷宗', '第三百四十八章 干一行爱一行', '第三百四十九章 梅妃', '周一求推荐票兼推本书', '第三百五十章 陇南张氏（第一更）', '第三百五十一章 霸道总捕头（第二更）', '第三百五十二章 注定的死亡（第三更）', '第三百五十三章 孟奇的准备', '第三百五十四章 为什么不来', '第三百五十五章 那一剑', '第三百五十六章 仙人抚我顶', '第三百五十七章 虚空印', '第三百五十八章 事不过三', '第三百五十九章 彼岸者', '第三百六十章 接下来的打算', '第三百六十一章 中隐隐于市', '第三百六十二章 公子羽', '第三百六十三章 试探', '第三百六十四章 “背锅侠”', '第三百六十五章 小孟去哪了（求推荐票）', '第三百六十六章 灭宗之祸', '第三百六十七章 古墓之战', '第三百六十八章 得“道”者多助', '关于更新时间和脑洞（章节已更）', '第三百六十九章 两剑合璧', '第三百七十章 问道', '第三百七十一章 “归来”', '第三百七十二章 邪魔八道', '第三百七十三章 救世', '还是请假一天吧', '第三百七十四章 薪火之传', '第三百七十五章 万世法', '第三百七十五章 武道宝典', '第三百七十七章 退避三舍', '第三百七十八章 第一条缝隙', '第三百七十九章 仇恨比不过利益（第一更）', '第三百八十章 今生殿中今生果（第二更）', '第三百八十一章 素手挥神笔（第三更）', '第三百八十二章 万古恨意', '第三百八十三章 又背锅', '第三百八十四章 绝世神兵', '第三百八十五章 陷阱', '第三百八十六章 无声处有惊雷', '第三百八十七章 欲说还休', '第三百八十八章 六印齐出', '第三百八十九章 四象印', '第三百九十章 横刀立马', '第三百九十一章 合纵连横（周一求推荐票）', '第三百九十二章 不要命的（四千字大章求票）', '第三百九十三章 元始九印之间的关系', '第三百九十四章 诸果之因', '第三百九十五章 生死原点（第一更）', '第三百九十六章 四月初六（第二更）', '第三百九十七章 当时年少青衫薄（第三更求月票）', '第三百九十八章 今生来世（第一更求月票）', '第三百九十九章 话不说尽', '第四百章 终究难逃', '第四百零一章 绝刀烙印', '第四卷小结兼请假一天', '第一章 一盏残灯，倾塌的山门（求月票）', '第二章 十年踪迹十年心（求月票）', '第三章 江湖夜雨十年灯', '第四章 从前有座山，山里有座庙', '第五章 苦海无边，回头是岸', '第六章 与寂寞和疯狂为伴（求月票）', '第七章 相逢', '第八章 一剑一命', '第九章 强大的是命运', '第十章 是何特征', '第十一章 反者道之动', '第十一章 反者道之动', '第十二章 再起波澜', '第十三章 阿难净土', '第十四章 阿难已死', '第十五章 此事无关风与月', '第十六章 丹炉', '第十七章 解脱', '第十八章 神话再现', '第十九章 白龙马,蹄朝西', '第二十章 无法抗衡的敌人', '第二十一章 灵山峰顶', '第二十二章 另一个我', '第二十三章 不争而善胜（第二和第三更）', '第二十四章 活在当下', '第二十五章 不灭元始身', '第五卷总结兼请假一天', '第一章 见面', '第二章 三人三事', '第三章 凭吊', '第四章 法身的密会', '第五章 “人肉转接器”（周一求推荐票）', '第六章 万界通识球', '第七章 对与错', '第八章 一言可为天下法', '第九章 只能帮你到这里了', '第十章 有敌归来', '第十一章 但愿人长久(两章合一）', '第十二章 开宗立派这件小事（两章合一）', '诉下苦兼推一本书（章节已更）', '第十三章 冰雪仙宫', '第十四章 迷雾重重', '第十五章 玩味', '第十六章 太上无极元始庆云', '第十七章 不存在的敌人', '第十八章 幻想照进现实', '第十九章 狡诈的魔君', '第二十章 危险又收获丰厚的瑶池', '第二十一章 都不简单', '第二十二章 池中宝物多', '第二十三章 请继续死下去吧', '今天两更在晚上', '第二十四章 霸王绝刀的特性', '第二十五章 东皇钟碎片现', '第二十六章 光阴刀（第一更）', '第二十七章 陆压的算盘（第二更）', '第二十八章 四十年来如一梦（第三更）', '十月的感谢（章节已更）', '第二十九章 谁的机会（求月票）', '第三十章 神游天地与遨游星海（求月票）', '第三十一章 宙光碎片（求月票）', '第三十二章 似曾相识又不同（求月票）', '第三十三章 做好事不留名', '第三十四章 一场莫名其妙的奇遇', '第三十五章 当头棒喝', '第三十六章 三世明王轮', '第三十七章 过去未来皆虚幻', '第三十八章 狡兔三窟之一', '有点卡文，请假一章', '第三十九章 海外仙境', '第四十章 不诉离殇', '第四十一章 夜帝的奇葩请求（六千大章补更）', '第四十二章 驾临十绝岛', '第四十三章 试问手', '第四十四章 “配合”', '第四十五章 惹祸能手苏小孟（求推荐票）', '第四十六章 请自重（求推荐票）', '第四十七章 战略性转移', '第四十八章 扶桑古树', '第四十九章 炼制之事', '第五十章 开天地于一叶', '第五十一章 游戏结束', '第五十二章 孟奇的准备', '第五十三章 各习一剑', '第五十四章 奇特旅程', '第五十五章 心机木偶', '第五十六章 虚拟他我', '这两天更新的说明（章节已更）', '第五十七章 这一定有哪里不对', '第五十八章 一个奇妙的江湖', '第五十九章 投影初步成形', '第六十章 冬至', '第六十一章 风云际会', '第六十二章 太古洪荒', '第六十三章 摘星高楼', '第六十四章 殷商再临', '第六十五章 “混战”', '第六十六章 岛主是何根脚？', '第六十七章 四帝成员', '今天的更新时间安排', '第六十八章 挫折（第一更）', '第六十九章 第一批失败者（第二更）', '第七十章 密谋', '第七十一章 旁观者急', '第七十二章 绝不低头', '第七十三章 一双脚', '第七十四章 大能余波', '第七十五章 中古时代', '第七十六章 碧月剑仙', '第七十七章 任秋水透露的消息', '第七十八章 江东盟约', '第七十九章 调虎离山（第二更）', '第八十章 指点江山的后果（第三更）', '第八十一章 一个爱出风头的男人（第一更）', '第八十二章 显化（第二更）', '第八十三章 天狗食日（第三更）', '三更完成，周一求推荐票月票（章节已更）', '第八十四章 声东击西（第一更求月票推荐票）', '第八十五章 可悲可叹（第二更求月票）', '第八十六章 截教（第三更求月票）', '欠更补完，求月票（章节已更）', '第八十七章 点评（求月票）', '第八十八章 交换（求月票）', '今天两章在晚上', '第八十九章 卓碧婷（第一更）', '第九十章 偶遇？（第二更）', '第九十一章 算命', '第九十二章 谁背谁的锅？', '第九十三章 玉皇山访客', '第九十四章 无声处听惊雷', '第九十五章 质问', '第九十六章 天帝化身', '第九十七章 “一臂之力”', '第九十八章 漫长的“一夜”（周一求推荐票）', '第九十九章 顶级法身(周一求推荐票）', '第一百章 寒蝉寺（求推荐票）', '第一百零一章 三重罗网（求推荐票）', '第一百零二章 以己之长攻彼之短', '第一百零三章 机智的小孟', '第一百零四章 层层禀报', '第一百零五章 峰回路转', '第一百零六章 大嘲讽术', '第一百零七章 东海之“约”', '第一百零八章 兄弟再会', '第一百零九章 血月', '第一百一十章 偏激', '第一百一十一章 不见了', '第一百一十二章 “涅盘”', '第一百一十三章 古老与古老的对弈', '第一百一十四章 多谢菩萨', '第一百一十五章 奇男子（第一更）', '第一百一十六章 会盟（第二更）', '第一百一十七章 一心剑之路（第三更）', '第一百一十八章 回归', '第一百一十九章 离开法身的这两年', '第一百二十章 剑出风云动，归鞘草庐静', '第一百二十一章 再见陆压', '第一百二十二章 第三件任务', '第一百二十三章 王家之见', '第一百二十四章 鬼神真灵', '第一百二十五章 王思远的请求', '第一百二十六章 警告', '第一百二十七章 管中窥豹，上古之秘', '第一百二十八章 王家隐脉', '书友YY新年大联欢，请大家踊跃参加（章节已更）', '第一百二十九章 以死阻路', '第一百三十章 易道真身', '第一百三十一章 二十万年一梦间', '第一百三十二章 以死布局', '第一百三十三章 神魔仙佛侧目', '第一百三十四章 剖析布局', '第一百三十五章 游说', '第一百三十六章 孟大忽*悠', '第一百三十七章 分派任务', '第一百三十八章 夜帝醒悟', '第一百三十九章 攻心之计', '第一百四十章 万界通识球', '第一百四十一章 苏孟的“当前状态”（第一更求月票）', '第一百四十二章 不死妖神（第二更求月票）', '第一百四十三章 不死未活（第三更求月票）', '第一百四十四章 神话时代？马甲时代！（第一更求月票）', '第一百四十五章 横渡星河', '第一百四十六章 宿世姻缘（第一更）', '第一百四十七章 大水冲了龙王庙（第二更）', '第一百四十八章 二十四诸天（第三更）', '祝大家元旦快乐，祝2016年到来（章节已更）', '第一百四十九章 暗度陈仓', '第一百五十章 事了（求保底月票）', '第一百五十一章 传“道”诸界（大章节求月票）', '第一百五十二章 不靠谱的师父（求月票）', '第一百五十三章 拜元皇（总算能更新了）', '第一百五十四章 气质由心生', '第一百五十五章 九个烙印', '第一百五十六章 世间美好 玉虚幽暗', '第一百五十七章 试探来意', '第一百五十八章 三十六口古井', '第一百五十九章 宇宙的沉重', '第一百六十章 他我之变', '第一百六十一章 峥嵘偶露', '第一百六十二章 九曲黄河阵', '第一百六十三章 十刹破阵', '第一百六十四章 不见伊人', '第一百六十五章 历史的原貌', '第一百六十六章 “回去”', '第一百六十七章 人生多岔路', '第一百六十八章 不平常的地球', '第一百六十九章 梦里不知身是客', '第一百七十章 罗教之事', '第一百七十一章 宛若变形记的半天', '第一百七十二章 远程算命', '第一百七十三章 渡世宝筏', '第一百七十四章 无尽渊海', '第一百七十五章 元始天魔再现', '第一百七十六章 紫红之眼', '第一百七十七章 霸气侧漏', '第一百七十八章 驾临素女道', '第一百七十九章 猜对了开头，却没有猜中结局', '第一百八十章 人者永不屈', '第一百八十一章 狂歌当哭不见泪', '第一百八十二章 神仙业位', '第一百八十三章 观想元始', '第一百八十四章 吴钜的宝物', '第一百八十五章 大师兄（第一更）', '第一百八十六章 老猪之事（第二更）', '第一百八十七章 风起云涌（第三更）', '第一百八十八章 怀抱天地', '第一百八十九章 天外飞来', '第一百九十章 堵门', '第一百九十一章 了断儿时心愿', '第一百九十二章 南海紫竹林（第一更）', '第一百九十三章 古今多少事（第二更）', '第一百九十四章 真龙能屈能伸（第三更）', '第一百九十五章 诸天崩散（第一更）', '第一百九十六章 一声叹息（第二更）', '第一百九十七章 新历二十年（第三更）', '今天两更在晚上兼推几本轻松的书', '第一百九十八章 如今的顶尖势力', '第一百九十九章 魔佛投影', '第两百章 妖族的计划（第一更和第二更）', '第两百零一章 历代最强天仙（第三更）', '第两百零二章 命中注定的一战', '第两百零三章 还算有良心的绝刀', '第两百零四章 可惜（第一更）', '第两百零五章 一桩命案', '第两百零六章 特别行动科（第一更）', '第两百零七章 不靠谱的愿望实现（第二更）', '第两百零八章 临阵磨枪（第三更求月票）', '第两百零九章 吸纳舍利（第一更求月票）', '第二百一十章 绝望而压抑的世界（第二更求月票）', '第二百一十一章 逆佛他我（第三更求月票）', '第二百一十二章 妖怪进城', '第二百一十三章 山头林立', '第二百一十四章 青丘的小手段', '第二百一十五章 跟着元皇去冒险', '第二百一十六章 身体回溯', '第二百一十七章 空空荡荡', '第二百一十八章 后山封印', '第二百一十九章 归来', '第二百二十章 九九归一（大家猴年如意）', '第二百二十章 九九归一大家猴年如意', '第二百二十一章 宣告', '第二百二十二章 修行从来寂寞', '第二百二十三章 全新的“战场”', '第二百二十四章 掌灯神使', '第二百二十五章 关你何事', '第二百二十六章 斩吾见我', '第二百二十七章 难以忘怀的', '第二百二十八章 故事里的事', '第二百二十九章 满天神佛', '第二百三十章 古树虚影', '第二百三十一章 “旁观”', '第二百三十二章 相似的树', '第二百三十三章 灰烬', '第二百三十四章 本性先天', '第二百三十五章 人皆元始（第二更）', '第二百三十六章 异象频现（第三更）', '第二百三十七章 灯火阑珊处', '第一章 “仙界”见闻', '第二章 云深不知处', '第三章 仙缘', '第四章 内景诸天', '第五章 驾临地府', '第六章 苏仙尊（第三更）', '第七章 元皇所嘱', '第八章 该来的始终会来', '第九章 一身挡四使', '第十章 足够了', '第十一章 锦绣山河', '第十二章 历经波劫，兄弟可在（求月票）', '第十三章 已是半凋零（求月票）', '第十四章 敌人由来', '第十五章 大青根的报复', '第十六章 四剑并立', '第十七章 安坐遣众人', '第二十一章 各有后手', '第二十三章 此起彼伏', '第二十四章 “天”降仙', '第二十五章 太古第一杀阵', '第二十六章 人皇遗蜕', '第二十七章 出手', '第二十八章 无上魔躯', '第三十章 余氛终消', '第三十二章 延绵万古的争斗', '第三十三章 线索', '第三十四章 三尸', '第三十五章 谋划将来', '第三十六章 故国不堪回首', '第三十七章 一声叹息', '第三十八章 只等东风', '第三十九章 异变', '第四十章 为人师表的孟奇', '第四十一章 一如既往的六道', '第四十二章 神魔级', '第四十三章 大周防卫手册', '第四十五章 开始潜伏', '之后几天更新的安排', '第四十六章 人不可貌相', '第四十七章 止虚山', '第四十八章 第一重考验', '第四十九章 止步之墙', '第五十章 神格', '第五十一章 宿命之河', '第五十二章 一线生机', '第五十三章 门后', '第五十四章 魂灯', '第五十五章 此志不坠', '第五十六章 “妖邪”阻道', '第五十七章 太昊', '第五十八章 一世之敌', '第五十九章 青帝归来', '第六十章 图穷匕见', '第六十一章 天意难测', '第六十三章 大愿', '第六十六章 玄悲之愿', '第七十章 佛祖当年', '第七十二章 兴高采烈跳陷阱', '第七十三章 生死原点（第一更）', '第七十四章 真武一剑（第二更）', '第七十八章 耽搁一下', '第七十九章 一步一劫', '那啥，今天两章在晚上', '第八十章 慑心铃', '第八十二章 碰面', '四百万字小结兼今天两章在晚上', '第八十六章 计较停当', '第八十八章 几年时光', '第九十三章 没有巧合', '第九十六章 世间安得双全法', '第九十七章 曾记否', '第九十九章 秩序之力', '第一百零三章 三重布置（第一更）', '第一百零四章 孟奇？孟德？（第二更）', '第一百零九章 防火防盗防苏孟', '今天两章在晚上', '第一百一十章 二郎何在', '第一百一十六章 错综复杂', '第一百一十九章 一滴滴血液', '今天两章在晚上', '第一百二十三章 有的事永远不会有结局', '第一百二十四章 人皇治下，皆是王土', '第一百二十五章 半年期已至', '第一百二十六章 天意在我', '第一百二十八章 造化云集', '第一百三十五章 旧神故鬼（第一更）', '第一百三十八章 复杂的雷神', '第一百四十三章 麻烦得好', '第一百四十四章 有德者居之', '第一百四十五章 扶桑古树的诡秘', '第一百四十七章 从此仙神事（第三更）', '今天两章继续在晚上', '第一百四十八章 天意为何难测', '第一百五十一章 力拔山兮气盖世', '第一百五十二章 “天意”', '第一百五十三章 拉仇恨的至尊', '第一百五十四章 机关算尽太聪明', '胃痛，今天两章在晚上', '第一百五十九章 飞蛾扑火', '晚上七点两章连更', '第一百六十五章 当初', '第一百六十六章 “托运”', '第一百六十七章 突破过去', '第一百七十三章 游说', '第一百七十四章 釜底抽薪', '第一百七十六章 祖师级人物', '第一百七十八章 一刀一剑平生意', '第一百七十九章 第一个准备', '第一百八十章 为有牺牲多壮志', '第一百八十一章 魔佛阿难', '第一百八十二章 天意莫测', '第一百八十三章 这就是彼岸，这就是天意', '第一百八十四章 我辈非是无情人', '照例的卷尾总结与请假', '今天两更在晚上', '第一章 相见欢', '第二章 诸果之因', '第三章 时光无情，岁月成壑', '第四章 一枕黄粱', '第五章 庄生晓梦迷蝴蝶', '第六章 明霞仙子', '第七章 天尊降临', '第八章 本来面目', '第九章 安排好的目睹', '第十章 一声钟响召同门', '第十一章 领旨下界', '第十二章 各有谋划不落人', '第十三章 若我得证菩提', '第十四章 真定如来', '第十五章 隐忍的至尊', '第十五章 无为', '第十七章 余波袅袅（第一更）', '第十八章 “包办”婚姻（第二更）', '第十九章 魔佛的莫名举动（第三更）', '第二十章 再回天河', '第二十一章 苦海难逃', '第二十二章 见家长', '第二十三章 飞来的好事', '第二十四章 意料之中', '第二十五章 熟识者', '第二十六章 睚眦必报', '第二十七章 不信邪', '第二十八章 闷棍（第二更）', '第二十九章 平静背后的暗流（第三更）', '第三十章 终究意难平', '第三十一章 裂痕难消', '第三十二章 孽障', '第三十三章 不按常理出牌', '第三十四章 阳谋', '第三十五章 老奸巨猾（两章合一）', '第三十六章 没有输家（第三更）', '第三十七章 走投无路', '第三十八章 当初的问题，现在的回答', '第三十九章 交换之“物”', '第四十章 助人为乐苏小孟', '第四十一章 越近道果越难言', '第四十二章 水很深', '第四十三章 时机已至', '第四十四章 本来面目', '第四十五章 等待的也是今日', '第四十六章 心有魔债', '第四十七章 时来天地皆同力', '第四十八章 天地崩', '第四十九章 机关算尽太聪明', '完本感言', '番外（一） 当时明月在', '番外（二） 故事里的事', '番外（三） 一线生机', '番外 四 最是那相逢一笑', '番外 五 比大青根更麻烦的是', '番外 六 新朋友们', '番外（七） 关于过去的问题', '番外（八） 如果', '番外（九） 一日游', '番外（十） 奇遇', '番外（十一） 往事', '新书上传，恳请支持', '新书《诡秘之主》']\n",
      "下载成功\n"
     ]
    }
   ],
   "source": [
    "url = ['https://book.qidian.com/info/3249362#Catalog','https://www.xbiquge.la/0/70/']\n",
    "setup(url,100,0,0)"
   ]
  }
 ],
 "metadata": {
  "anaconda-cloud": {},
  "hide_input": false,
  "kernelspec": {
   "display_name": "Python 3 (ipykernel)",
   "language": "python",
   "name": "python3"
  },
  "language_info": {
   "codemirror_mode": {
    "name": "ipython",
    "version": 3
   },
   "file_extension": ".py",
   "mimetype": "text/x-python",
   "name": "python",
   "nbconvert_exporter": "python",
   "pygments_lexer": "ipython3",
   "version": "3.7.10"
  },
  "toc": {
   "base_numbering": 1,
   "nav_menu": {},
   "number_sections": true,
   "sideBar": true,
   "skip_h1_title": false,
   "title_cell": "Table of Contents",
   "title_sidebar": "Contents",
   "toc_cell": false,
   "toc_position": {},
   "toc_section_display": true,
   "toc_window_display": false
  },
  "varInspector": {
   "cols": {
    "lenName": 16,
    "lenType": 16,
    "lenVar": 40
   },
   "kernels_config": {
    "python": {
     "delete_cmd_postfix": "",
     "delete_cmd_prefix": "del ",
     "library": "var_list.py",
     "varRefreshCmd": "print(var_dic_list())"
    },
    "r": {
     "delete_cmd_postfix": ") ",
     "delete_cmd_prefix": "rm(",
     "library": "var_list.r",
     "varRefreshCmd": "cat(var_dic_list()) "
    }
   },
   "types_to_exclude": [
    "module",
    "function",
    "builtin_function_or_method",
    "instance",
    "_Feature"
   ],
   "window_display": false
  }
 },
 "nbformat": 4,
 "nbformat_minor": 4
}
